{
 "cells": [
  {
   "cell_type": "code",
   "execution_count": 7,
   "id": "26f808ac-3210-4bbf-a96d-d7d76e740286",
   "metadata": {},
   "outputs": [],
   "source": [
    "import llm\n",
    "import sqlite_utils\n",
    "import chromadb\n",
    "import json\n",
    "import pandas as pd"
   ]
  },
  {
   "cell_type": "markdown",
   "id": "b2f21282-77e8-40fb-b74c-13e78d50096f",
   "metadata": {},
   "source": [
    "## Get Book Metadata Lookup"
   ]
  },
  {
   "cell_type": "code",
   "execution_count": 63,
   "id": "2d565bf5-ce2b-4edd-addd-31e6735b3cd4",
   "metadata": {},
   "outputs": [],
   "source": [
    "mdf = pd.read_json(\"top100_metadata_short.json\")"
   ]
  },
  {
   "cell_type": "code",
   "execution_count": 17,
   "id": "29ece0b6-7766-48a5-93b1-76a7eb245971",
   "metadata": {},
   "outputs": [],
   "source": [
    "def get_meta_lookup(file=\"top100_metadata_short.json\"): \n",
    "    metadata = pd.read_json(file)\n",
    "    metadata = metadata.to_dict(orient=\"records\")\n",
    "    metadata_lookup = {x['id']:x for x in metadata}\n",
    "    return metadata_lookup"
   ]
  },
  {
   "cell_type": "code",
   "execution_count": 35,
   "id": "a3730b93-c062-4447-8082-daa77eb067d6",
   "metadata": {},
   "outputs": [],
   "source": [
    "metadata = get_meta_lookup()"
   ]
  },
  {
   "cell_type": "code",
   "execution_count": 37,
   "id": "ab213e8b-c975-4a59-9873-776810c2056d",
   "metadata": {},
   "outputs": [
    {
     "data": {
      "text/plain": [
       "dict_keys([2852, 1080, 6593, 5197, 11, 8800, 1727, 1342, 844, 1184, 1400, 28255, 37106, 98, 408, 84, 1952, 74, 174, 345, 76, 16389, 1497, 2591, 244, 2641, 100, 514, 2160, 730, 1837, 8710, 86, 1232, 4085, 67098, 1259, 1513, 398, 4280, 43, 5200, 27827, 2701, 6130, 3296, 135, 16328, 2554, 768, 74750, 74745, 45, 145, 36034, 34901, 74742, 67979, 7700, 12116, 600, 28054, 7370, 2814, 55, 2680, 25344, 394, 219, 2542, 8492, 4300, 50150, 2600, 1661, 1998, 1260, 205, 46, 10007, 3207, 74746, 64317, 4363, 6761, 41, 38015, 996])"
      ]
     },
     "execution_count": 37,
     "metadata": {},
     "output_type": "execute_result"
    }
   ],
   "source": [
    "metadata.keys()"
   ]
  },
  {
   "cell_type": "markdown",
   "id": "c362009d-e9e8-4010-8002-b088487f0d5c",
   "metadata": {},
   "source": [
    "## Search DB"
   ]
  },
  {
   "cell_type": "code",
   "execution_count": 3,
   "id": "32d7f5b8-4d75-450a-804a-9bc13d3d7ef0",
   "metadata": {},
   "outputs": [],
   "source": [
    "model = \"gguf/mxbai-embed-xsmall-v1-q8_0\"\n",
    "embedding_model = llm.get_embedding_model(model)"
   ]
  },
  {
   "cell_type": "code",
   "execution_count": 67,
   "id": "cfac92cd-bd41-4517-8484-c56bb422ca53",
   "metadata": {},
   "outputs": [],
   "source": [
    "client = chromadb.PersistentClient(path=\"chroma_db/\")\n",
    "collection = client.get_collection(\"top100\")"
   ]
  },
  {
   "cell_type": "code",
   "execution_count": null,
   "id": "eb154d7d-5ea4-4c59-bf68-5aa0340ea8e3",
   "metadata": {},
   "outputs": [],
   "source": [
    "def embed_text(text):\n",
    "    return embedding_model.embed(text)\n",
    "\n",
    "def search_chroma(string, keyword=None, n=10):\n",
    "    vector = embed_text(string)\n",
    "    if keyword:\n",
    "        res = collection.query(\n",
    "            query_embeddings=[vector],\n",
    "            n_results=n,\n",
    "            #where={\"metadata_field\": \"is_equal_to_this\"},\n",
    "            where_document={\"$contains\":keyword}\n",
    "        )\n",
    "    else:\n",
    "        res = collection.query(\n",
    "            query_embeddings=[vector],\n",
    "            n_results=n,\n",
    "            #where={\"metadata_field\": \"is_equal_to_this\"},\n",
    "            #where_document={\"$contains\":keyword}\n",
    "        )\n",
    "    return res\n",
    "\n",
    "def search_chroma_with_vector(vector,n=10):\n",
    "    res = collection.query(\n",
    "            query_embeddings=[vector],\n",
    "            n_results=n,\n",
    "            #where={\"metadata_field\": \"is_equal_to_this\"},\n",
    "            #where_document={\"$contains\":keyword}\n",
    "        )\n",
    "    return res\n",
    "\n",
    "def combine_res(res, docs=True):\n",
    "    combined = []\n",
    "    ids = res['ids'][0]\n",
    "    meta = res['metadatas'][0]\n",
    "    distance = res['distances'][0]\n",
    "    docs = res['documents'][0]\n",
    "    for i, id in enumerate(ids):\n",
    "        rowid = id\n",
    "        alldata = meta[i]\n",
    "        alldata['rowid'] = rowid\n",
    "        alldata['distance'] = distance[i]\n",
    "        alldata['words'] = word_count(docs[i])\n",
    "        bookid = int(rowid.split(\"_\")[0])\n",
    "        info = metadata[bookid]\n",
    "        combined.append({**alldata, **info})\n",
    "    return combined\n",
    "\n",
    "def word_count(string):\n",
    "    return len(string.split(\" \"))"
   ]
  },
  {
   "cell_type": "code",
   "execution_count": 70,
   "id": "f56c96b6-149c-4640-ba81-333193936fb2",
   "metadata": {},
   "outputs": [
    {
     "data": {
      "text/plain": [
       "[{'bookid': 514,\n",
       "  'content': \"They were very happy, even after they discovered that they couldn't live on love alone.\\n\",\n",
       "  'line_num': 1460,\n",
       "  'source': '514_sents_filt.txt',\n",
       "  'rowid': '514_1460',\n",
       "  'distance': 0.2782585620880127,\n",
       "  'words': 15,\n",
       "  'id': 514,\n",
       "  'title': 'Little Women',\n",
       "  'author': 'Alcott, Louisa May',\n",
       "  'author_birthday': 1832},\n",
       " {'bookid': 2591,\n",
       "  'content': 'There they found their child, now grown up to be comely and fair; and after all their troubles they lived happily together to the end of their days.\\n',\n",
       "  'line_num': 1596,\n",
       "  'source': '2591_sents_filt.txt',\n",
       "  'rowid': '2591_1596',\n",
       "  'distance': 0.29412078857421875,\n",
       "  'words': 28,\n",
       "  'id': 2591,\n",
       "  'title': \"Grimms' Fairy Tales\",\n",
       "  'author': 'Grimm, Jacob, Grimm, Wilhelm',\n",
       "  'author_birthday': 1785}]"
      ]
     },
     "execution_count": 70,
     "metadata": {},
     "output_type": "execute_result"
    }
   ],
   "source": [
    "combine_res(search_chroma(\"They lived happily ever after.\", n=2))"
   ]
  },
  {
   "cell_type": "code",
   "execution_count": null,
   "id": "09d1901c-ccec-4514-b9fc-daa74ef8f03f",
   "metadata": {},
   "outputs": [],
   "source": [
    "def runner_from_start(string, words=25000, wordcount=0, code=\"start\"):\n",
    "    # start string, run till word count, label with a code\n",
    "    seen_ids = []\n",
    "    sentences = []\n",
    "    sentences.append({'content': string, 'code': 'input', 'sent_count': 0, 'author': \"narrator\", \"title\": \"nanogenmo\"})\n",
    "    while wordcount < words:\n",
    "        results = combine_res(search_chroma(string, n=15))\n",
    "        got = False\n",
    "        for res in results:\n",
    "            if res['rowid'] not in seen_ids:\n",
    "                res['origin_search'] = string\n",
    "                res['code'] = code\n",
    "                number = len(sentences)\n",
    "                res['sent_count'] = number\n",
    "                sentences.append(res)\n",
    "                seen_ids.append(res['rowid'])\n",
    "                wordcount += res['words']\n",
    "                string = res['content']\n",
    "                got = True\n",
    "                continue\n",
    "        if not got:\n",
    "            print(\"blocked\")\n",
    "            break\n",
    "    return seen_ids, sentences, wordcount\n",
    "\n",
    "def interpolate_vectors(v1, v2, weight):\n",
    "    \"\"\"\n",
    "    Interpolate between two vectors with given weight.\n",
    "    weight = 0 returns v1, weight = 1 returns v2\n",
    "    \"\"\"\n",
    "    return [a + (b - a) * weight for a, b in zip(v1, v2)]\n",
    "\n",
    "def generate_interpolations(v1, v2, n):\n",
    "    \"\"\"\n",
    "    Generate n interpolations between v1 and v2.\n",
    "    Returns list of vectors, starting at v1 and ending at v2.\n",
    "    \"\"\"\n",
    "    weights = [i/(n-1) for i in range(n)]\n",
    "    return [interpolate_vectors(v1, v2, w) for w in weights]\n",
    "\n",
    "def merger(sent1, sent2, n=10):\n",
    "    # interpolate between 2 sentences to join the parts of the story -- n sentences\n",
    "    seen_ids = []\n",
    "    sentences = []\n",
    "    wordcount = 0\n",
    "    vector1 = embed_text(sent1)\n",
    "    vector2 = embed_text(sent2)\n",
    "    interps = generate_interpolations(vector1, vector2, n=n)\n",
    "    # don't use these sentences again:\n",
    "    res1 = combine_res(search_chroma(sent1, n=1))\n",
    "    seen_ids.append(res1[0]['id'])\n",
    "    res2 = combine_res(search_chroma(sent2, n=1))\n",
    "    seen_ids.append(res2[0]['id'])\n",
    "    for i, interp in enumerate(interps):\n",
    "        results = combine_res(search_chroma_with_vector(interp, n=15))\n",
    "        got = False\n",
    "        for res in results:\n",
    "            if res['rowid'] not in seen_ids:\n",
    "                res['origin_search'] = \"None\"\n",
    "                res['code'] = \"interp_\" + str(i)\n",
    "                number = len(sentences)\n",
    "                res['sent_count'] = number\n",
    "                sentences.append(res)\n",
    "                seen_ids.append(res['rowid'])\n",
    "                wordcount += res['words']\n",
    "                string = res['content']\n",
    "                got = True\n",
    "                break\n",
    "        if not got:\n",
    "            print(\"blocked\")\n",
    "            break\n",
    "    return seen_ids, sentences, wordcount\n",
    "    "
   ]
  },
  {
   "cell_type": "markdown",
   "id": "7e13255b-3ddc-4a30-8156-6a2b946a6db8",
   "metadata": {},
   "source": [
    "## Create and Write Output File"
   ]
  },
  {
   "cell_type": "code",
   "execution_count": 150,
   "id": "73a0fac2-f5c6-47d8-b394-8a5d06e38052",
   "metadata": {},
   "outputs": [],
   "source": [
    "seen_ids1, sentences1, wordcount = runner_from_start(\"Once upon a time, in a faraway land...\\n\")"
   ]
  },
  {
   "cell_type": "code",
   "execution_count": 151,
   "id": "fce7ee63-f98d-4fc2-aab7-b90f2408c42c",
   "metadata": {},
   "outputs": [
    {
     "data": {
      "text/plain": [
       "25128"
      ]
     },
     "execution_count": 151,
     "metadata": {},
     "output_type": "execute_result"
    }
   ],
   "source": [
    "wordcount"
   ]
  },
  {
   "cell_type": "code",
   "execution_count": 127,
   "id": "5055c65c-d531-46fd-9dc5-f544c5a2c6a4",
   "metadata": {},
   "outputs": [
    {
     "name": "stdout",
     "output_type": "stream",
     "text": [
      "{'bookid': 6593, 'content': 'These solicitations were nevertheless unsuccessful: for though Mr Allworthy did not think, with some late writers, that mercy consists only in punishing offenders; yet he was as far from thinking that it is proper to this excellent quality to pardon great criminals wantonly, without any reason whatever.\\n', 'line_num': 290, 'source': '6593_sents_filt.txt', 'rowid': '6593_290', 'distance': 0.45186787843704224, 'words': 47, 'id': 6593, 'title': 'History of Tom Jones, a Foundling', 'author': 'Fielding, Henry', 'author_birthday': 1707, 'origin_search': 'Several strange facts combined against her, which might have staggered anyone who had not such proof of her innocence as I had.\\n'}\n"
     ]
    }
   ],
   "source": [
    "print(sentences[-1])"
   ]
  },
  {
   "cell_type": "code",
   "execution_count": 152,
   "id": "87eb649d-5d84-4259-92f3-b08c912e2a74",
   "metadata": {},
   "outputs": [],
   "source": [
    "seen_ids2, sentences2, wordcount = runner_from_start(\"And they lived happily ever after.\\n\", code=\"end\")"
   ]
  },
  {
   "cell_type": "code",
   "execution_count": 153,
   "id": "7ce8b343-7fbf-41d8-94f8-c6cf03a9a59e",
   "metadata": {},
   "outputs": [
    {
     "data": {
      "text/plain": [
       "{'bookid': 3296,\n",
       " 'content': 'Yet the force of truth did of itself flash into mine eyes, and I turned away my panting soul from incorporeal substance to lineaments, and colours, and bulky magnitudes.\\n',\n",
       " 'line_num': 368,\n",
       " 'source': '3296_sents_filt.txt',\n",
       " 'rowid': '3296_368',\n",
       " 'distance': 0.42306387424468994,\n",
       " 'words': 29,\n",
       " 'id': 3296,\n",
       " 'title': 'The Confessions of St. Augustine',\n",
       " 'author': 'Augustine, Saint, Bishop of Hippo',\n",
       " 'author_birthday': 354,\n",
       " 'origin_search': \"That lie shall lie so heavy on my sword That it shall render vengeance and revenge Till thou the lie-giver and that lie do lie In earth as quiet as thy father's skull.\\n\",\n",
       " 'code': 'end',\n",
       " 'sent_count': 987}"
      ]
     },
     "execution_count": 153,
     "metadata": {},
     "output_type": "execute_result"
    }
   ],
   "source": [
    "sentences2[-1]"
   ]
  },
  {
   "cell_type": "code",
   "execution_count": 154,
   "id": "c9900ee8-e8ad-4f62-a107-ff5211ba5464",
   "metadata": {},
   "outputs": [],
   "source": [
    "sentences2.reverse()"
   ]
  },
  {
   "cell_type": "code",
   "execution_count": 155,
   "id": "8efdd8f2-d74c-45c0-afae-f37325a44913",
   "metadata": {},
   "outputs": [
    {
     "data": {
      "text/plain": [
       "{'content': 'And they lived happily ever after.\\n',\n",
       " 'code': 'input',\n",
       " 'sent_count': 0,\n",
       " 'author': 'narrator',\n",
       " 'title': 'nanogenmo'}"
      ]
     },
     "execution_count": 155,
     "metadata": {},
     "output_type": "execute_result"
    }
   ],
   "source": [
    "sentences2[-1]"
   ]
  },
  {
   "cell_type": "code",
   "execution_count": 130,
   "id": "0137c163-d637-4c78-a82a-d965283eccae",
   "metadata": {},
   "outputs": [
    {
     "data": {
      "text/plain": [
       "'These solicitations were nevertheless unsuccessful: for though Mr Allworthy did not think, with some late writers, that mercy consists only in punishing offenders; yet he was as far from thinking that it is proper to this excellent quality to pardon great criminals wantonly, without any reason whatever.\\n'"
      ]
     },
     "execution_count": 130,
     "metadata": {},
     "output_type": "execute_result"
    }
   ],
   "source": [
    "start_merge = sentences1[-1]['content']\n",
    "start_merge"
   ]
  },
  {
   "cell_type": "code",
   "execution_count": 132,
   "id": "06cc4a93-1f9b-4f88-8136-bd76f08fbaea",
   "metadata": {},
   "outputs": [
    {
     "data": {
      "text/plain": [
       "'Yet the force of truth did of itself flash into mine eyes, and I turned away my panting soul from incorporeal substance to lineaments, and colours, and bulky magnitudes.\\n'"
      ]
     },
     "execution_count": 132,
     "metadata": {},
     "output_type": "execute_result"
    }
   ],
   "source": [
    "end_merge = sentences2[0]['content']\n",
    "end_merge"
   ]
  },
  {
   "cell_type": "code",
   "execution_count": 133,
   "id": "ba0bafc6-5e4d-4286-898b-e8415f99495c",
   "metadata": {},
   "outputs": [],
   "source": [
    "seen_ids3, sentences_merged, wordcount = merger(start_merge, end_merge, n=10)"
   ]
  },
  {
   "cell_type": "code",
   "execution_count": 157,
   "id": "adb7a2cd-fd5b-4712-9655-6846bd078082",
   "metadata": {},
   "outputs": [],
   "source": [
    "all_sentences = sentences1 + sentences_merged + sentences2"
   ]
  },
  {
   "cell_type": "code",
   "execution_count": 171,
   "id": "bf7cd81f-0cad-4075-b733-6b42ff2074f9",
   "metadata": {},
   "outputs": [],
   "source": [
    "def write_out_sentences(sentences, filename=\"output.md\", title=\"Once Upon a Time/Happily Ever After\"):\n",
    "    with open(filename, 'w') as f:\n",
    "        # Title\n",
    "        f.write(f\"# {title}\\n\\n\")\n",
    "        \n",
    "        for sentence in sentences:\n",
    "            \n",
    "            f.write(sentence['content'].strip())\n",
    "            \n",
    "            f.write(f\"<i><div align='right'>{sentence.get('author', '')}, {sentence.get('title', '')}, distance:{sentence.get('distance', 0):.3f}, code:{sentence.get('code', 'none')}</div></i>\\n\")\n",
    "            f.write(\"\\n\")\n",
    "            # Centered text using HTML\n",
    "            #f.write(\"<div align='center'>Centered text</div>\\n\\n\")\n",
    "        \n",
    "            # Block quote\n",
    "            #f.write(\"> Indented blockquote\\n\\n\")\n",
    "    print(\"Wrote file\", filename)"
   ]
  },
  {
   "cell_type": "code",
   "execution_count": 172,
   "id": "43b44572-4b3e-41f2-97f2-c2debbd4ff2c",
   "metadata": {},
   "outputs": [
    {
     "name": "stdout",
     "output_type": "stream",
     "text": [
      "Wrote file output.md\n"
     ]
    }
   ],
   "source": [
    "write_out_sentences(all_sentences)"
   ]
  },
  {
   "cell_type": "markdown",
   "id": "d79be972-9191-4f08-8b5c-462b04579fc6",
   "metadata": {},
   "source": [
    "## Demo of the Interp"
   ]
  },
  {
   "cell_type": "code",
   "execution_count": 120,
   "id": "eadbdfad-4c8f-4dda-bd20-f517ef531898",
   "metadata": {},
   "outputs": [],
   "source": [
    "seen_ids3, sentences_merged, wordcount = merger(\"It was night and chilly.\", \"It was sunny and hot.\", n=5)"
   ]
  },
  {
   "cell_type": "code",
   "execution_count": 121,
   "id": "2a7f4059-dec4-4f8e-af23-6cba58072342",
   "metadata": {},
   "outputs": [
    {
     "data": {
      "text/plain": [
       "5"
      ]
     },
     "execution_count": 121,
     "metadata": {},
     "output_type": "execute_result"
    }
   ],
   "source": [
    "len(sentences_merged)"
   ]
  },
  {
   "cell_type": "code",
   "execution_count": 122,
   "id": "cef77783-54f5-4246-9aec-d34f7c83ec5d",
   "metadata": {},
   "outputs": [
    {
     "data": {
      "text/plain": [
       "[{'bookid': 1400,\n",
       "  'content': 'It was a dry cold night, and the wind blew keenly, and the frost was white and hard.\\n',\n",
       "  'line_num': 270,\n",
       "  'source': '1400_sents_filt.txt',\n",
       "  'rowid': '1400_270',\n",
       "  'distance': 0.28353387117385864,\n",
       "  'words': 18,\n",
       "  'id': 1400,\n",
       "  'title': 'Great Expectations',\n",
       "  'author': 'Dickens, Charles',\n",
       "  'author_birthday': 1812,\n",
       "  'origin_search': 'None',\n",
       "  'code': 'interp_0',\n",
       "  'sent_count': 0},\n",
       " {'bookid': 4300,\n",
       "  'content': 'Though it was a warm pleasant sort of a night now yet wonderfully cool for the season considering, for sunshine after storm.\\n',\n",
       "  'line_num': 3531,\n",
       "  'source': '4300_sents_filt.txt',\n",
       "  'rowid': '4300_3531',\n",
       "  'distance': 0.288249671459198,\n",
       "  'words': 22,\n",
       "  'id': 4300,\n",
       "  'title': 'Ulysses',\n",
       "  'author': 'Joyce, James',\n",
       "  'author_birthday': 1882,\n",
       "  'origin_search': 'None',\n",
       "  'code': 'interp_1',\n",
       "  'sent_count': 1},\n",
       " {'bookid': 2814,\n",
       "  'content': 'It was a bright Sunday morning of early summer, promising heat, but with a fresh breeze blowing.\\n',\n",
       "  'line_num': 523,\n",
       "  'source': '2814_sents_filt.txt',\n",
       "  'rowid': '2814_523',\n",
       "  'distance': 0.3247804641723633,\n",
       "  'words': 17,\n",
       "  'id': 2814,\n",
       "  'title': 'Dubliners',\n",
       "  'author': 'Joyce, James',\n",
       "  'author_birthday': 1882,\n",
       "  'origin_search': 'None',\n",
       "  'code': 'interp_2',\n",
       "  'sent_count': 2},\n",
       " {'bookid': 2600,\n",
       "  'content': 'In the sunshine the air was warm, and that warmth was particularly pleasant with the invigorating freshness of the morning frost still in the air.\\n',\n",
       "  'line_num': 9681,\n",
       "  'source': '2600_sents_filt.txt',\n",
       "  'rowid': '2600_9681',\n",
       "  'distance': 0.33232581615448,\n",
       "  'words': 25,\n",
       "  'id': 2600,\n",
       "  'title': 'War and Peace',\n",
       "  'author': 'Tolstoy, Leo, graf',\n",
       "  'author_birthday': 1828,\n",
       "  'origin_search': 'None',\n",
       "  'code': 'interp_3',\n",
       "  'sent_count': 3},\n",
       " {'bookid': 1400,\n",
       "  'content': 'The sun had been shining brightly all day on the roof of my attic, and the room was warm.\\n',\n",
       "  'line_num': 862,\n",
       "  'source': '1400_sents_filt.txt',\n",
       "  'rowid': '1400_862',\n",
       "  'distance': 0.34980177879333496,\n",
       "  'words': 19,\n",
       "  'id': 1400,\n",
       "  'title': 'Great Expectations',\n",
       "  'author': 'Dickens, Charles',\n",
       "  'author_birthday': 1812,\n",
       "  'origin_search': 'None',\n",
       "  'code': 'interp_4',\n",
       "  'sent_count': 4}]"
      ]
     },
     "execution_count": 122,
     "metadata": {},
     "output_type": "execute_result"
    }
   ],
   "source": [
    "sentences_merged"
   ]
  },
  {
   "cell_type": "code",
   "execution_count": null,
   "id": "5d7dfe52-2b14-4fc9-821e-7335544e6bca",
   "metadata": {},
   "outputs": [],
   "source": []
  }
 ],
 "metadata": {
  "kernelspec": {
   "display_name": "Python 3 (ipykernel)",
   "language": "python",
   "name": "python3"
  },
  "language_info": {
   "codemirror_mode": {
    "name": "ipython",
    "version": 3
   },
   "file_extension": ".py",
   "mimetype": "text/x-python",
   "name": "python",
   "nbconvert_exporter": "python",
   "pygments_lexer": "ipython3",
   "version": "3.11.10"
  }
 },
 "nbformat": 4,
 "nbformat_minor": 5
}
