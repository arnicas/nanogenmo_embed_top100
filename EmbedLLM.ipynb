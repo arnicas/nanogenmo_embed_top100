{
 "cells": [
  {
   "cell_type": "code",
   "execution_count": 5,
   "id": "16ed2fa2-2565-4cbd-95d4-13675bbb680e",
   "metadata": {},
   "outputs": [],
   "source": [
    "import llm\n",
    "import sqlite_utils\n",
    "import chromadb"
   ]
  },
  {
   "cell_type": "markdown",
   "id": "7c70d985-d1c6-444c-86f5-4651aae95e6b",
   "metadata": {},
   "source": [
    "## Do Embeddings of All Sentences Using LLM lib"
   ]
  },
  {
   "cell_type": "markdown",
   "id": "7f49a731",
   "metadata": {},
   "source": [
    "you should have already at the command line installed `llm`, and done \n",
    "\n",
    "```\n",
    "llm install llm-gguf\n",
    "llm gguf download-embed-model \\\n",
    "  'https://huggingface.co/mixedbread-ai/mxbai-embed-xsmall-v1/resolve/main/gguf/mxbai-embed-xsmall-v1-q8_0.gguf'\n",
    "```\n",
    "\n",
    "  per the post by Simon Willison here: https://simonwillison.net/2024/Nov/21/llm-gguf-embeddings/\n",
    "  \n",
    "  (Note I had to move to a remote VM due to a bug with the llama wrapper on my Mac.)"
   ]
  },
  {
   "cell_type": "code",
   "execution_count": 12,
   "id": "71e710b1-e53c-4e65-af47-0bc8b5ecb8cd",
   "metadata": {},
   "outputs": [],
   "source": [
    "# llm embed -m gguf/mxbai-embed-xsmall-v1-q8_0 -c 'hello'\n",
    "# -d my-embeddings.db"
   ]
  },
  {
   "cell_type": "code",
   "execution_count": 2,
   "id": "3703d807-470e-4c15-9d28-72ef61e6af98",
   "metadata": {},
   "outputs": [],
   "source": [
    "model = \"gguf/mxbai-embed-xsmall-v1-q8_0\""
   ]
  },
  {
   "cell_type": "code",
   "execution_count": 3,
   "id": "f07ec638-4930-4b15-a254-0c7ebf82a228",
   "metadata": {},
   "outputs": [],
   "source": [
    "files = !ls top100_sents_filtered/"
   ]
  },
  {
   "cell_type": "code",
   "execution_count": 4,
   "id": "3d249f4a-3311-4303-95a4-3ac4c2001758",
   "metadata": {},
   "outputs": [
    {
     "data": {
      "text/plain": [
       "'10007_sents_filt.txt'"
      ]
     },
     "execution_count": 4,
     "metadata": {},
     "output_type": "execute_result"
    }
   ],
   "source": [
    "files[0]"
   ]
  },
  {
   "cell_type": "code",
   "execution_count": 46,
   "id": "b6a91ad8-5506-4711-ae04-f86b843a0fd3",
   "metadata": {},
   "outputs": [],
   "source": [
    "def get_metadata(file):\n",
    "    id = file.split(\"_\")[0]\n",
    "    return {\"bookid\": id, \"source_file\": file}\n",
    "\n",
    "def split_list(list, n=20):\n",
    "    return [list[i:i+n] for i in range(0, len(list), n)]"
   ]
  },
  {
   "cell_type": "code",
   "execution_count": 25,
   "id": "e2a9ccc8-008e-4274-ac7d-f96b347cfcc7",
   "metadata": {},
   "outputs": [],
   "source": [
    "#!rm top100_mxbai.db"
   ]
  },
  {
   "cell_type": "code",
   "execution_count": 3,
   "id": "d6dae41c-8786-4f22-8ab2-159c138aa67b",
   "metadata": {},
   "outputs": [],
   "source": [
    "embedding_model = llm.get_embedding_model(model)\n",
    "#db = sqlite_utils.Database(\"top100_mxbai.db\")"
   ]
  },
  {
   "cell_type": "code",
   "execution_count": 48,
   "id": "f474de73-f343-4c18-8053-2e54ebe099fa",
   "metadata": {},
   "outputs": [],
   "source": [
    "def read_sents(file, path=\"top100_sents_filtered/\"):\n",
    "    with open(path + file) as handle:\n",
    "        lines = handle.readlines()\n",
    "    return lines"
   ]
  },
  {
   "cell_type": "code",
   "execution_count": 99,
   "id": "b147ac82-0285-48d0-8d53-d1bc0904a49e",
   "metadata": {},
   "outputs": [
    {
     "name": "stderr",
     "output_type": "stream",
     "text": [
      "llama_new_context_with_model: n_ctx_per_seq (512) < n_ctx_train (4096) -- the full capacity of the model will not be utilized\n"
     ]
    }
   ],
   "source": [
    "vector = embedding_model.embed(\"hello\")"
   ]
  },
  {
   "cell_type": "code",
   "execution_count": 132,
   "id": "1cb97942-fe9b-4b18-a5b8-a14dfd890a21",
   "metadata": {},
   "outputs": [
    {
     "data": {
      "text/plain": [
       "384"
      ]
     },
     "execution_count": 132,
     "metadata": {},
     "output_type": "execute_result"
    }
   ],
   "source": [
    "len(vector)"
   ]
  },
  {
   "cell_type": "code",
   "execution_count": 186,
   "id": "6ad85cf4-7c71-4f82-802f-0f78a13f35dc",
   "metadata": {},
   "outputs": [],
   "source": [
    "collection = llm.Collection(\"sentences\", db, model=embedding_model)"
   ]
  },
  {
   "cell_type": "markdown",
   "id": "5a28ee1b-0acd-4da1-ac18-35670bcc773c",
   "metadata": {},
   "source": [
    "```\n",
    "collection.embed_multi_with_metadata(\n",
    "    [\n",
    "        (\"hound\", \"my happy hound\", {\"name\": \"Hound\"}),\n",
    "        (\"cat\", \"my dissatisfied cat\", {\"name\": \"Cat\"}),\n",
    "    ],\n",
    "    # This can also take the store=True argument:\n",
    "    store=True,\n",
    ")\n",
    "```"
   ]
  },
  {
   "cell_type": "code",
   "execution_count": 35,
   "id": "49a196db-dfec-43f8-b334-b362b5a7ed69",
   "metadata": {},
   "outputs": [],
   "source": [
    "def process_file(file):\n",
    "    lines = read_sents(file)\n",
    "    print(file, len(lines))\n",
    "    batches = split_list(lines)\n",
    "    base_metadata = get_metadata(file) # gets book id and source file\n",
    "    line_counter = 1\n",
    "    for i, batch in enumerate(batches):\n",
    "        text_with_meta = []\n",
    "        for line in batch:\n",
    "            meta = base_metadata\n",
    "            meta['line_num'] = line_counter\n",
    "            id_label = meta['bookid'] + \"_\" + str(line_counter)\n",
    "            text_with_meta.append((id_label, line, meta))\n",
    "            line_counter += 1\n",
    "        collection.embed_multi_with_metadata(text_with_meta, store=True)\n",
    "        print(\"did batch\", i)\n",
    "    print(\"did lines\", line_counter)\n",
    "    "
   ]
  },
  {
   "cell_type": "code",
   "execution_count": null,
   "id": "df21d497-49ca-482a-94d8-5390fb3c284c",
   "metadata": {},
   "outputs": [],
   "source": [
    "for file in files[1:]:\n",
    "    process_file(file)"
   ]
  },
  {
   "cell_type": "code",
   "execution_count": 187,
   "id": "4ce70320-1d5e-47b6-afa9-0230f6f2f806",
   "metadata": {},
   "outputs": [
    {
     "name": "stderr",
     "output_type": "stream",
     "text": [
      "llama_new_context_with_model: n_ctx_per_seq (512) < n_ctx_train (4096) -- the full capacity of the model will not be utilized\n"
     ]
    },
    {
     "name": "stdout",
     "output_type": "stream",
     "text": [
      "76_320 0.6128033444880707 All I could get to eat was berries and what was left over from breakfast.\n",
      " {'bookid': '76', 'source_file': '76_sents_filt.txt', 'line_num': 320}\n",
      "1400_48 0.5813657630128987 On the present occasion, though I was hungry, I dared not eat my slice.\n",
      " {'bookid': '1400', 'source_file': '1400_sents_filt.txt', 'line_num': 60}\n",
      "1400_289 0.5732558734145862 I was hungry, but before I had swallowed a morsel, he began a running sum that lasted all through the breakfast.\n",
      " {'bookid': '1400', 'source_file': '1400_sents_filt.txt', 'line_num': 300}\n",
      "1260_255 0.5628181339842894 I devoured my bread and drank my coffee with relish; but I should have been glad of as much more—I was still hungry.\n",
      " {'bookid': '1260', 'source_file': '1260_sents_filt.txt', 'line_num': 260}\n",
      "84_1064 0.5302388452178833 I awoke exhausted, and finding that it was already night, I crept forth from my hiding-place, and went in search of food.\n",
      " {'bookid': '84', 'source_file': '84_sents_filt.txt', 'line_num': 1080}\n"
     ]
    }
   ],
   "source": [
    "# this is very slow, move the data to a better db (for more complex queries easier)\n",
    "for entry in collection.similar(\"I ate a snack.\", number=5):\n",
    "    print(entry.id, entry.score, entry.content, entry.metadata)"
   ]
  },
  {
   "cell_type": "code",
   "execution_count": 46,
   "id": "16a68146-a2c4-4462-aac8-790eca6d6ed6",
   "metadata": {},
   "outputs": [],
   "source": [
    "db.close()"
   ]
  },
  {
   "cell_type": "markdown",
   "id": "904786aa-8b96-4dbc-8ddd-97d0ce65c370",
   "metadata": {},
   "source": [
    "## Get Embeddings from SQLITE and Export for Use in Chroma DB"
   ]
  },
  {
   "cell_type": "code",
   "execution_count": 2,
   "id": "aebcc208-a245-4da3-b5aa-e6a1f8842616",
   "metadata": {},
   "outputs": [],
   "source": [
    "import pandas as pd\n",
    "import sqlite3"
   ]
  },
  {
   "cell_type": "code",
   "execution_count": 3,
   "id": "59d12bdd-09d6-40d4-ab67-5dfbe2aa841c",
   "metadata": {},
   "outputs": [],
   "source": [
    "conn = sqlite3.connect('top100_mxbai.db')\n",
    "c = conn.cursor()"
   ]
  },
  {
   "cell_type": "code",
   "execution_count": null,
   "id": "333a7d52-6d29-4fe7-8345-af328dd0b72c",
   "metadata": {},
   "outputs": [],
   "source": [
    "df = pd.read_sql('SELECT * from embeddings', conn)\n",
    "df.to_parquet('embedded.parquet', index = False)"
   ]
  },
  {
   "cell_type": "code",
   "execution_count": 6,
   "id": "6041b1a9-7db0-438a-8d00-d0ea5fcc51ba",
   "metadata": {},
   "outputs": [
    {
     "data": {
      "text/html": [
       "<div>\n",
       "<style scoped>\n",
       "    .dataframe tbody tr th:only-of-type {\n",
       "        vertical-align: middle;\n",
       "    }\n",
       "\n",
       "    .dataframe tbody tr th {\n",
       "        vertical-align: top;\n",
       "    }\n",
       "\n",
       "    .dataframe thead th {\n",
       "        text-align: right;\n",
       "    }\n",
       "</style>\n",
       "<table border=\"1\" class=\"dataframe\">\n",
       "  <thead>\n",
       "    <tr style=\"text-align: right;\">\n",
       "      <th></th>\n",
       "      <th>collection_id</th>\n",
       "      <th>id</th>\n",
       "      <th>embedding</th>\n",
       "      <th>content</th>\n",
       "      <th>content_blob</th>\n",
       "      <th>content_hash</th>\n",
       "      <th>metadata</th>\n",
       "      <th>updated</th>\n",
       "    </tr>\n",
       "  </thead>\n",
       "  <tbody>\n",
       "    <tr>\n",
       "      <th>0</th>\n",
       "      <td>1</td>\n",
       "      <td>10007_1</td>\n",
       "      <td>b'\\x1a\\xf9\\x81\\xbdl\\xbd\\xa7&gt;\\xb50e=\\x1c\\x9bx=|...</td>\n",
       "      <td>Upon a paper attached to the Narrative which f...</td>\n",
       "      <td>None</td>\n",
       "      <td>b'\\xe7h\\x13\\x07\\x831[W\\xd2\\x1c53\\xebf\\xacc'</td>\n",
       "      <td>{\"bookid\": \"10007\", \"source_file\": \"10007_sent...</td>\n",
       "      <td>1732551170</td>\n",
       "    </tr>\n",
       "    <tr>\n",
       "      <th>1</th>\n",
       "      <td>1</td>\n",
       "      <td>10007_2</td>\n",
       "      <td>b'0j&amp;\\xbb\\xee\\xd8\\x80&gt;\\x98\\x99\\xf7=\\xfft\\x00&gt;\\...</td>\n",
       "      <td>This mysterious subject he treats, in that Ess...</td>\n",
       "      <td>None</td>\n",
       "      <td>b'\\x10\\x8a\\xb9dI\\x90\\xaf\\x1b)\\xd4\\x94\\xfb\\x9b\\...</td>\n",
       "      <td>{\"bookid\": \"10007\", \"source_file\": \"10007_sent...</td>\n",
       "      <td>1732551170</td>\n",
       "    </tr>\n",
       "    <tr>\n",
       "      <th>2</th>\n",
       "      <td>1</td>\n",
       "      <td>10007_3</td>\n",
       "      <td>b'\\\\\\x06\\x12\\xbf\\xbfba\\xbe\\xb1\\x01\\x14\\xbeJr\\x...</td>\n",
       "      <td>It will form but one volume of the series of t...</td>\n",
       "      <td>None</td>\n",
       "      <td>b'?i(\\xffw\\xcfxG$\\xd8H\\xe1\\xdf\\xdd\\xdf\\xda'</td>\n",
       "      <td>{\"bookid\": \"10007\", \"source_file\": \"10007_sent...</td>\n",
       "      <td>1732551170</td>\n",
       "    </tr>\n",
       "    <tr>\n",
       "      <th>3</th>\n",
       "      <td>1</td>\n",
       "      <td>10007_4</td>\n",
       "      <td>b'\\x80\\xab\\xa0\\xbe\\x9a\\xafc&gt;\\xce\\xa6q\\xbd\\xdeD...</td>\n",
       "      <td>I was anxious on discovering this paper, to re...</td>\n",
       "      <td>None</td>\n",
       "      <td>b'Bb\\x91D\\x81\\x94\\xcc\\x9f.\\xd6\\x12\\x1a\\xff_\\xb...</td>\n",
       "      <td>{\"bookid\": \"10007\", \"source_file\": \"10007_sent...</td>\n",
       "      <td>1732551170</td>\n",
       "    </tr>\n",
       "    <tr>\n",
       "      <th>4</th>\n",
       "      <td>1</td>\n",
       "      <td>10007_5</td>\n",
       "      <td>b'3\\x8e\\xf5&lt;P\\x85\\x11&gt;\\xbd\\xccx&gt;\\xea8&gt;&gt;4F\\xba&lt;...</td>\n",
       "      <td>Much to my regret, however, I found that she h...</td>\n",
       "      <td>None</td>\n",
       "      <td>b'\\x05RB\\x18\\xfdq\\xa1#_\\xb3\\xa6\\xd6@/y&gt;'</td>\n",
       "      <td>{\"bookid\": \"10007\", \"source_file\": \"10007_sent...</td>\n",
       "      <td>1732551170</td>\n",
       "    </tr>\n",
       "  </tbody>\n",
       "</table>\n",
       "</div>"
      ],
      "text/plain": [
       "   collection_id       id                                          embedding  \\\n",
       "0              1  10007_1  b'\\x1a\\xf9\\x81\\xbdl\\xbd\\xa7>\\xb50e=\\x1c\\x9bx=|...   \n",
       "1              1  10007_2  b'0j&\\xbb\\xee\\xd8\\x80>\\x98\\x99\\xf7=\\xfft\\x00>\\...   \n",
       "2              1  10007_3  b'\\\\\\x06\\x12\\xbf\\xbfba\\xbe\\xb1\\x01\\x14\\xbeJr\\x...   \n",
       "3              1  10007_4  b'\\x80\\xab\\xa0\\xbe\\x9a\\xafc>\\xce\\xa6q\\xbd\\xdeD...   \n",
       "4              1  10007_5  b'3\\x8e\\xf5<P\\x85\\x11>\\xbd\\xccx>\\xea8>>4F\\xba<...   \n",
       "\n",
       "                                             content content_blob  \\\n",
       "0  Upon a paper attached to the Narrative which f...         None   \n",
       "1  This mysterious subject he treats, in that Ess...         None   \n",
       "2  It will form but one volume of the series of t...         None   \n",
       "3  I was anxious on discovering this paper, to re...         None   \n",
       "4  Much to my regret, however, I found that she h...         None   \n",
       "\n",
       "                                        content_hash  \\\n",
       "0        b'\\xe7h\\x13\\x07\\x831[W\\xd2\\x1c53\\xebf\\xacc'   \n",
       "1  b'\\x10\\x8a\\xb9dI\\x90\\xaf\\x1b)\\xd4\\x94\\xfb\\x9b\\...   \n",
       "2        b'?i(\\xffw\\xcfxG$\\xd8H\\xe1\\xdf\\xdd\\xdf\\xda'   \n",
       "3  b'Bb\\x91D\\x81\\x94\\xcc\\x9f.\\xd6\\x12\\x1a\\xff_\\xb...   \n",
       "4           b'\\x05RB\\x18\\xfdq\\xa1#_\\xb3\\xa6\\xd6@/y>'   \n",
       "\n",
       "                                            metadata     updated  \n",
       "0  {\"bookid\": \"10007\", \"source_file\": \"10007_sent...  1732551170  \n",
       "1  {\"bookid\": \"10007\", \"source_file\": \"10007_sent...  1732551170  \n",
       "2  {\"bookid\": \"10007\", \"source_file\": \"10007_sent...  1732551170  \n",
       "3  {\"bookid\": \"10007\", \"source_file\": \"10007_sent...  1732551170  \n",
       "4  {\"bookid\": \"10007\", \"source_file\": \"10007_sent...  1732551170  "
      ]
     },
     "execution_count": 6,
     "metadata": {},
     "output_type": "execute_result"
    }
   ],
   "source": [
    "df.head()"
   ]
  },
  {
   "cell_type": "code",
   "execution_count": 4,
   "id": "1e25c7c8-6666-4649-85cd-c9346f824aa9",
   "metadata": {},
   "outputs": [],
   "source": [
    "df = pd.read_parquet(\"embedded.parquet\")"
   ]
  },
  {
   "cell_type": "code",
   "execution_count": 5,
   "id": "20c5f786-f3a9-498d-8bd8-a4f60aedcac9",
   "metadata": {},
   "outputs": [
    {
     "data": {
      "text/html": [
       "<div>\n",
       "<style scoped>\n",
       "    .dataframe tbody tr th:only-of-type {\n",
       "        vertical-align: middle;\n",
       "    }\n",
       "\n",
       "    .dataframe tbody tr th {\n",
       "        vertical-align: top;\n",
       "    }\n",
       "\n",
       "    .dataframe thead th {\n",
       "        text-align: right;\n",
       "    }\n",
       "</style>\n",
       "<table border=\"1\" class=\"dataframe\">\n",
       "  <thead>\n",
       "    <tr style=\"text-align: right;\">\n",
       "      <th></th>\n",
       "      <th>collection_id</th>\n",
       "      <th>id</th>\n",
       "      <th>embedding</th>\n",
       "      <th>content</th>\n",
       "      <th>content_blob</th>\n",
       "      <th>content_hash</th>\n",
       "      <th>metadata</th>\n",
       "      <th>updated</th>\n",
       "    </tr>\n",
       "  </thead>\n",
       "  <tbody>\n",
       "    <tr>\n",
       "      <th>0</th>\n",
       "      <td>1</td>\n",
       "      <td>10007_1</td>\n",
       "      <td>b'\\x1a\\xf9\\x81\\xbdl\\xbd\\xa7&gt;\\xb50e=\\x1c\\x9bx=|...</td>\n",
       "      <td>Upon a paper attached to the Narrative which f...</td>\n",
       "      <td>None</td>\n",
       "      <td>b'\\xe7h\\x13\\x07\\x831[W\\xd2\\x1c53\\xebf\\xacc'</td>\n",
       "      <td>{\"bookid\": \"10007\", \"source_file\": \"10007_sent...</td>\n",
       "      <td>1732551170</td>\n",
       "    </tr>\n",
       "    <tr>\n",
       "      <th>1</th>\n",
       "      <td>1</td>\n",
       "      <td>10007_2</td>\n",
       "      <td>b'0j&amp;\\xbb\\xee\\xd8\\x80&gt;\\x98\\x99\\xf7=\\xfft\\x00&gt;\\...</td>\n",
       "      <td>This mysterious subject he treats, in that Ess...</td>\n",
       "      <td>None</td>\n",
       "      <td>b'\\x10\\x8a\\xb9dI\\x90\\xaf\\x1b)\\xd4\\x94\\xfb\\x9b\\...</td>\n",
       "      <td>{\"bookid\": \"10007\", \"source_file\": \"10007_sent...</td>\n",
       "      <td>1732551170</td>\n",
       "    </tr>\n",
       "    <tr>\n",
       "      <th>2</th>\n",
       "      <td>1</td>\n",
       "      <td>10007_3</td>\n",
       "      <td>b'\\\\\\x06\\x12\\xbf\\xbfba\\xbe\\xb1\\x01\\x14\\xbeJr\\x...</td>\n",
       "      <td>It will form but one volume of the series of t...</td>\n",
       "      <td>None</td>\n",
       "      <td>b'?i(\\xffw\\xcfxG$\\xd8H\\xe1\\xdf\\xdd\\xdf\\xda'</td>\n",
       "      <td>{\"bookid\": \"10007\", \"source_file\": \"10007_sent...</td>\n",
       "      <td>1732551170</td>\n",
       "    </tr>\n",
       "    <tr>\n",
       "      <th>3</th>\n",
       "      <td>1</td>\n",
       "      <td>10007_4</td>\n",
       "      <td>b'\\x80\\xab\\xa0\\xbe\\x9a\\xafc&gt;\\xce\\xa6q\\xbd\\xdeD...</td>\n",
       "      <td>I was anxious on discovering this paper, to re...</td>\n",
       "      <td>None</td>\n",
       "      <td>b'Bb\\x91D\\x81\\x94\\xcc\\x9f.\\xd6\\x12\\x1a\\xff_\\xb...</td>\n",
       "      <td>{\"bookid\": \"10007\", \"source_file\": \"10007_sent...</td>\n",
       "      <td>1732551170</td>\n",
       "    </tr>\n",
       "    <tr>\n",
       "      <th>4</th>\n",
       "      <td>1</td>\n",
       "      <td>10007_5</td>\n",
       "      <td>b'3\\x8e\\xf5&lt;P\\x85\\x11&gt;\\xbd\\xccx&gt;\\xea8&gt;&gt;4F\\xba&lt;...</td>\n",
       "      <td>Much to my regret, however, I found that she h...</td>\n",
       "      <td>None</td>\n",
       "      <td>b'\\x05RB\\x18\\xfdq\\xa1#_\\xb3\\xa6\\xd6@/y&gt;'</td>\n",
       "      <td>{\"bookid\": \"10007\", \"source_file\": \"10007_sent...</td>\n",
       "      <td>1732551170</td>\n",
       "    </tr>\n",
       "  </tbody>\n",
       "</table>\n",
       "</div>"
      ],
      "text/plain": [
       "   collection_id       id                                          embedding  \\\n",
       "0              1  10007_1  b'\\x1a\\xf9\\x81\\xbdl\\xbd\\xa7>\\xb50e=\\x1c\\x9bx=|...   \n",
       "1              1  10007_2  b'0j&\\xbb\\xee\\xd8\\x80>\\x98\\x99\\xf7=\\xfft\\x00>\\...   \n",
       "2              1  10007_3  b'\\\\\\x06\\x12\\xbf\\xbfba\\xbe\\xb1\\x01\\x14\\xbeJr\\x...   \n",
       "3              1  10007_4  b'\\x80\\xab\\xa0\\xbe\\x9a\\xafc>\\xce\\xa6q\\xbd\\xdeD...   \n",
       "4              1  10007_5  b'3\\x8e\\xf5<P\\x85\\x11>\\xbd\\xccx>\\xea8>>4F\\xba<...   \n",
       "\n",
       "                                             content content_blob  \\\n",
       "0  Upon a paper attached to the Narrative which f...         None   \n",
       "1  This mysterious subject he treats, in that Ess...         None   \n",
       "2  It will form but one volume of the series of t...         None   \n",
       "3  I was anxious on discovering this paper, to re...         None   \n",
       "4  Much to my regret, however, I found that she h...         None   \n",
       "\n",
       "                                        content_hash  \\\n",
       "0        b'\\xe7h\\x13\\x07\\x831[W\\xd2\\x1c53\\xebf\\xacc'   \n",
       "1  b'\\x10\\x8a\\xb9dI\\x90\\xaf\\x1b)\\xd4\\x94\\xfb\\x9b\\...   \n",
       "2        b'?i(\\xffw\\xcfxG$\\xd8H\\xe1\\xdf\\xdd\\xdf\\xda'   \n",
       "3  b'Bb\\x91D\\x81\\x94\\xcc\\x9f.\\xd6\\x12\\x1a\\xff_\\xb...   \n",
       "4           b'\\x05RB\\x18\\xfdq\\xa1#_\\xb3\\xa6\\xd6@/y>'   \n",
       "\n",
       "                                            metadata     updated  \n",
       "0  {\"bookid\": \"10007\", \"source_file\": \"10007_sent...  1732551170  \n",
       "1  {\"bookid\": \"10007\", \"source_file\": \"10007_sent...  1732551170  \n",
       "2  {\"bookid\": \"10007\", \"source_file\": \"10007_sent...  1732551170  \n",
       "3  {\"bookid\": \"10007\", \"source_file\": \"10007_sent...  1732551170  \n",
       "4  {\"bookid\": \"10007\", \"source_file\": \"10007_sent...  1732551170  "
      ]
     },
     "execution_count": 5,
     "metadata": {},
     "output_type": "execute_result"
    }
   ],
   "source": [
    "df.head()"
   ]
  },
  {
   "cell_type": "code",
   "execution_count": 6,
   "id": "59bcde05-da70-4677-aa92-699a79259b91",
   "metadata": {},
   "outputs": [],
   "source": [
    "embed_test = df.iloc[0]['embedding']"
   ]
  },
  {
   "cell_type": "code",
   "execution_count": 7,
   "id": "0f69664a-ee6c-49c1-80cd-33513777652f",
   "metadata": {},
   "outputs": [],
   "source": [
    "import numpy as np"
   ]
  },
  {
   "cell_type": "code",
   "execution_count": 8,
   "id": "d40f8ca8-be07-421d-8e57-37587fe81517",
   "metadata": {},
   "outputs": [],
   "source": [
    "float_array = np.frombuffer(embed_test, dtype=np.float32)"
   ]
  },
  {
   "cell_type": "code",
   "execution_count": 14,
   "id": "3a16939f-c381-41f1-958b-6e9ed26b5ccf",
   "metadata": {},
   "outputs": [],
   "source": [
    "df['vector'] = df['embedding'].apply(lambda x: np.frombuffer(x, dtype=np.float32))"
   ]
  },
  {
   "cell_type": "code",
   "execution_count": 15,
   "id": "595cff01-accd-4585-ad5a-0bc9f7c83d1c",
   "metadata": {},
   "outputs": [
    {
     "data": {
      "text/html": [
       "<div>\n",
       "<style scoped>\n",
       "    .dataframe tbody tr th:only-of-type {\n",
       "        vertical-align: middle;\n",
       "    }\n",
       "\n",
       "    .dataframe tbody tr th {\n",
       "        vertical-align: top;\n",
       "    }\n",
       "\n",
       "    .dataframe thead th {\n",
       "        text-align: right;\n",
       "    }\n",
       "</style>\n",
       "<table border=\"1\" class=\"dataframe\">\n",
       "  <thead>\n",
       "    <tr style=\"text-align: right;\">\n",
       "      <th></th>\n",
       "      <th>collection_id</th>\n",
       "      <th>id</th>\n",
       "      <th>embedding</th>\n",
       "      <th>content</th>\n",
       "      <th>content_blob</th>\n",
       "      <th>content_hash</th>\n",
       "      <th>metadata</th>\n",
       "      <th>updated</th>\n",
       "      <th>vector</th>\n",
       "    </tr>\n",
       "  </thead>\n",
       "  <tbody>\n",
       "    <tr>\n",
       "      <th>0</th>\n",
       "      <td>1</td>\n",
       "      <td>10007_1</td>\n",
       "      <td>b'\\x1a\\xf9\\x81\\xbdl\\xbd\\xa7&gt;\\xb50e=\\x1c\\x9bx=|...</td>\n",
       "      <td>Upon a paper attached to the Narrative which f...</td>\n",
       "      <td>None</td>\n",
       "      <td>b'\\xe7h\\x13\\x07\\x831[W\\xd2\\x1c53\\xebf\\xacc'</td>\n",
       "      <td>{\"bookid\": \"10007\", \"source_file\": \"10007_sent...</td>\n",
       "      <td>1732551170</td>\n",
       "      <td>[-0.063463405, 0.32761705, 0.055954654, 0.0606...</td>\n",
       "    </tr>\n",
       "    <tr>\n",
       "      <th>1</th>\n",
       "      <td>1</td>\n",
       "      <td>10007_2</td>\n",
       "      <td>b'0j&amp;\\xbb\\xee\\xd8\\x80&gt;\\x98\\x99\\xf7=\\xfft\\x00&gt;\\...</td>\n",
       "      <td>This mysterious subject he treats, in that Ess...</td>\n",
       "      <td>None</td>\n",
       "      <td>b'\\x10\\x8a\\xb9dI\\x90\\xaf\\x1b)\\xd4\\x94\\xfb\\x9b\\...</td>\n",
       "      <td>{\"bookid\": \"10007\", \"source_file\": \"10007_sent...</td>\n",
       "      <td>1732551170</td>\n",
       "      <td>[-0.0025392883, 0.25165504, 0.120898426, 0.125...</td>\n",
       "    </tr>\n",
       "    <tr>\n",
       "      <th>2</th>\n",
       "      <td>1</td>\n",
       "      <td>10007_3</td>\n",
       "      <td>b'\\\\\\x06\\x12\\xbf\\xbfba\\xbe\\xb1\\x01\\x14\\xbeJr\\x...</td>\n",
       "      <td>It will form but one volume of the series of t...</td>\n",
       "      <td>None</td>\n",
       "      <td>b'?i(\\xffw\\xcfxG$\\xd8H\\xe1\\xdf\\xdd\\xdf\\xda'</td>\n",
       "      <td>{\"bookid\": \"10007\", \"source_file\": \"10007_sent...</td>\n",
       "      <td>1732551170</td>\n",
       "      <td>[-0.57040954, -0.22010325, -0.1445377, 0.08371...</td>\n",
       "    </tr>\n",
       "    <tr>\n",
       "      <th>3</th>\n",
       "      <td>1</td>\n",
       "      <td>10007_4</td>\n",
       "      <td>b'\\x80\\xab\\xa0\\xbe\\x9a\\xafc&gt;\\xce\\xa6q\\xbd\\xdeD...</td>\n",
       "      <td>I was anxious on discovering this paper, to re...</td>\n",
       "      <td>None</td>\n",
       "      <td>b'Bb\\x91D\\x81\\x94\\xcc\\x9f.\\xd6\\x12\\x1a\\xff_\\xb...</td>\n",
       "      <td>{\"bookid\": \"10007\", \"source_file\": \"10007_sent...</td>\n",
       "      <td>1732551170</td>\n",
       "      <td>[-0.31380844, 0.22234955, -0.058996968, -0.013...</td>\n",
       "    </tr>\n",
       "    <tr>\n",
       "      <th>4</th>\n",
       "      <td>1</td>\n",
       "      <td>10007_5</td>\n",
       "      <td>b'3\\x8e\\xf5&lt;P\\x85\\x11&gt;\\xbd\\xccx&gt;\\xea8&gt;&gt;4F\\xba&lt;...</td>\n",
       "      <td>Much to my regret, however, I found that she h...</td>\n",
       "      <td>None</td>\n",
       "      <td>b'\\x05RB\\x18\\xfdq\\xa1#_\\xb3\\xa6\\xd6@/y&gt;'</td>\n",
       "      <td>{\"bookid\": \"10007\", \"source_file\": \"10007_sent...</td>\n",
       "      <td>1732551170</td>\n",
       "      <td>[0.029975032, 0.14211011, 0.24296851, 0.185763...</td>\n",
       "    </tr>\n",
       "  </tbody>\n",
       "</table>\n",
       "</div>"
      ],
      "text/plain": [
       "   collection_id       id                                          embedding  \\\n",
       "0              1  10007_1  b'\\x1a\\xf9\\x81\\xbdl\\xbd\\xa7>\\xb50e=\\x1c\\x9bx=|...   \n",
       "1              1  10007_2  b'0j&\\xbb\\xee\\xd8\\x80>\\x98\\x99\\xf7=\\xfft\\x00>\\...   \n",
       "2              1  10007_3  b'\\\\\\x06\\x12\\xbf\\xbfba\\xbe\\xb1\\x01\\x14\\xbeJr\\x...   \n",
       "3              1  10007_4  b'\\x80\\xab\\xa0\\xbe\\x9a\\xafc>\\xce\\xa6q\\xbd\\xdeD...   \n",
       "4              1  10007_5  b'3\\x8e\\xf5<P\\x85\\x11>\\xbd\\xccx>\\xea8>>4F\\xba<...   \n",
       "\n",
       "                                             content content_blob  \\\n",
       "0  Upon a paper attached to the Narrative which f...         None   \n",
       "1  This mysterious subject he treats, in that Ess...         None   \n",
       "2  It will form but one volume of the series of t...         None   \n",
       "3  I was anxious on discovering this paper, to re...         None   \n",
       "4  Much to my regret, however, I found that she h...         None   \n",
       "\n",
       "                                        content_hash  \\\n",
       "0        b'\\xe7h\\x13\\x07\\x831[W\\xd2\\x1c53\\xebf\\xacc'   \n",
       "1  b'\\x10\\x8a\\xb9dI\\x90\\xaf\\x1b)\\xd4\\x94\\xfb\\x9b\\...   \n",
       "2        b'?i(\\xffw\\xcfxG$\\xd8H\\xe1\\xdf\\xdd\\xdf\\xda'   \n",
       "3  b'Bb\\x91D\\x81\\x94\\xcc\\x9f.\\xd6\\x12\\x1a\\xff_\\xb...   \n",
       "4           b'\\x05RB\\x18\\xfdq\\xa1#_\\xb3\\xa6\\xd6@/y>'   \n",
       "\n",
       "                                            metadata     updated  \\\n",
       "0  {\"bookid\": \"10007\", \"source_file\": \"10007_sent...  1732551170   \n",
       "1  {\"bookid\": \"10007\", \"source_file\": \"10007_sent...  1732551170   \n",
       "2  {\"bookid\": \"10007\", \"source_file\": \"10007_sent...  1732551170   \n",
       "3  {\"bookid\": \"10007\", \"source_file\": \"10007_sent...  1732551170   \n",
       "4  {\"bookid\": \"10007\", \"source_file\": \"10007_sent...  1732551170   \n",
       "\n",
       "                                              vector  \n",
       "0  [-0.063463405, 0.32761705, 0.055954654, 0.0606...  \n",
       "1  [-0.0025392883, 0.25165504, 0.120898426, 0.125...  \n",
       "2  [-0.57040954, -0.22010325, -0.1445377, 0.08371...  \n",
       "3  [-0.31380844, 0.22234955, -0.058996968, -0.013...  \n",
       "4  [0.029975032, 0.14211011, 0.24296851, 0.185763...  "
      ]
     },
     "execution_count": 15,
     "metadata": {},
     "output_type": "execute_result"
    }
   ],
   "source": [
    "df.head()"
   ]
  },
  {
   "cell_type": "code",
   "execution_count": 16,
   "id": "7076fa70-b4a7-486f-ae5d-0496eb67acc4",
   "metadata": {},
   "outputs": [],
   "source": [
    "newdf = df[['id', 'vector', 'metadata', 'content']]"
   ]
  },
  {
   "cell_type": "code",
   "execution_count": 17,
   "id": "0a7148d6-402c-4d8a-8ef4-66b8b07979c7",
   "metadata": {},
   "outputs": [
    {
     "data": {
      "text/html": [
       "<div>\n",
       "<style scoped>\n",
       "    .dataframe tbody tr th:only-of-type {\n",
       "        vertical-align: middle;\n",
       "    }\n",
       "\n",
       "    .dataframe tbody tr th {\n",
       "        vertical-align: top;\n",
       "    }\n",
       "\n",
       "    .dataframe thead th {\n",
       "        text-align: right;\n",
       "    }\n",
       "</style>\n",
       "<table border=\"1\" class=\"dataframe\">\n",
       "  <thead>\n",
       "    <tr style=\"text-align: right;\">\n",
       "      <th></th>\n",
       "      <th>id</th>\n",
       "      <th>vector</th>\n",
       "      <th>metadata</th>\n",
       "      <th>content</th>\n",
       "    </tr>\n",
       "  </thead>\n",
       "  <tbody>\n",
       "    <tr>\n",
       "      <th>0</th>\n",
       "      <td>10007_1</td>\n",
       "      <td>[-0.063463405, 0.32761705, 0.055954654, 0.0606...</td>\n",
       "      <td>{\"bookid\": \"10007\", \"source_file\": \"10007_sent...</td>\n",
       "      <td>Upon a paper attached to the Narrative which f...</td>\n",
       "    </tr>\n",
       "    <tr>\n",
       "      <th>1</th>\n",
       "      <td>10007_2</td>\n",
       "      <td>[-0.0025392883, 0.25165504, 0.120898426, 0.125...</td>\n",
       "      <td>{\"bookid\": \"10007\", \"source_file\": \"10007_sent...</td>\n",
       "      <td>This mysterious subject he treats, in that Ess...</td>\n",
       "    </tr>\n",
       "    <tr>\n",
       "      <th>2</th>\n",
       "      <td>10007_3</td>\n",
       "      <td>[-0.57040954, -0.22010325, -0.1445377, 0.08371...</td>\n",
       "      <td>{\"bookid\": \"10007\", \"source_file\": \"10007_sent...</td>\n",
       "      <td>It will form but one volume of the series of t...</td>\n",
       "    </tr>\n",
       "    <tr>\n",
       "      <th>3</th>\n",
       "      <td>10007_4</td>\n",
       "      <td>[-0.31380844, 0.22234955, -0.058996968, -0.013...</td>\n",
       "      <td>{\"bookid\": \"10007\", \"source_file\": \"10007_sent...</td>\n",
       "      <td>I was anxious on discovering this paper, to re...</td>\n",
       "    </tr>\n",
       "    <tr>\n",
       "      <th>4</th>\n",
       "      <td>10007_5</td>\n",
       "      <td>[0.029975032, 0.14211011, 0.24296851, 0.185763...</td>\n",
       "      <td>{\"bookid\": \"10007\", \"source_file\": \"10007_sent...</td>\n",
       "      <td>Much to my regret, however, I found that she h...</td>\n",
       "    </tr>\n",
       "  </tbody>\n",
       "</table>\n",
       "</div>"
      ],
      "text/plain": [
       "        id                                             vector  \\\n",
       "0  10007_1  [-0.063463405, 0.32761705, 0.055954654, 0.0606...   \n",
       "1  10007_2  [-0.0025392883, 0.25165504, 0.120898426, 0.125...   \n",
       "2  10007_3  [-0.57040954, -0.22010325, -0.1445377, 0.08371...   \n",
       "3  10007_4  [-0.31380844, 0.22234955, -0.058996968, -0.013...   \n",
       "4  10007_5  [0.029975032, 0.14211011, 0.24296851, 0.185763...   \n",
       "\n",
       "                                            metadata  \\\n",
       "0  {\"bookid\": \"10007\", \"source_file\": \"10007_sent...   \n",
       "1  {\"bookid\": \"10007\", \"source_file\": \"10007_sent...   \n",
       "2  {\"bookid\": \"10007\", \"source_file\": \"10007_sent...   \n",
       "3  {\"bookid\": \"10007\", \"source_file\": \"10007_sent...   \n",
       "4  {\"bookid\": \"10007\", \"source_file\": \"10007_sent...   \n",
       "\n",
       "                                             content  \n",
       "0  Upon a paper attached to the Narrative which f...  \n",
       "1  This mysterious subject he treats, in that Ess...  \n",
       "2  It will form but one volume of the series of t...  \n",
       "3  I was anxious on discovering this paper, to re...  \n",
       "4  Much to my regret, however, I found that she h...  "
      ]
     },
     "execution_count": 17,
     "metadata": {},
     "output_type": "execute_result"
    }
   ],
   "source": [
    "newdf.head()"
   ]
  },
  {
   "cell_type": "code",
   "execution_count": 18,
   "id": "87a22f2e-b010-45f9-983e-9946f009916c",
   "metadata": {},
   "outputs": [],
   "source": [
    "import json\n",
    "def get_meta_source(row, which='source_file'):\n",
    "    return json.loads(row['metadata'])[which]"
   ]
  },
  {
   "cell_type": "code",
   "execution_count": 19,
   "id": "3f065e2b-d741-46b2-aa4f-0df570afa0b7",
   "metadata": {},
   "outputs": [],
   "source": [
    "import json\n",
    "def get_meta_book(row, which='bookid'):\n",
    "    return json.loads(row['metadata'])[which]"
   ]
  },
  {
   "cell_type": "code",
   "execution_count": 20,
   "id": "7daab472-7fb3-4dd4-82d0-3f2ba02104c3",
   "metadata": {},
   "outputs": [
    {
     "name": "stderr",
     "output_type": "stream",
     "text": [
      "/var/folders/ps/lnm9jcx95676mggwmlpvn86cv6fpj6/T/ipykernel_14725/2206162089.py:1: SettingWithCopyWarning: \n",
      "A value is trying to be set on a copy of a slice from a DataFrame.\n",
      "Try using .loc[row_indexer,col_indexer] = value instead\n",
      "\n",
      "See the caveats in the documentation: https://pandas.pydata.org/pandas-docs/stable/user_guide/indexing.html#returning-a-view-versus-a-copy\n",
      "  newdf['source'] = newdf.apply(get_meta_source, axis=1)\n"
     ]
    }
   ],
   "source": [
    "newdf['source'] = newdf.apply(get_meta_source, axis=1)"
   ]
  },
  {
   "cell_type": "code",
   "execution_count": 21,
   "id": "ecc1eeab-7563-4180-a2d7-e32bba9c2658",
   "metadata": {},
   "outputs": [
    {
     "name": "stderr",
     "output_type": "stream",
     "text": [
      "/var/folders/ps/lnm9jcx95676mggwmlpvn86cv6fpj6/T/ipykernel_14725/2225837228.py:1: SettingWithCopyWarning: \n",
      "A value is trying to be set on a copy of a slice from a DataFrame.\n",
      "Try using .loc[row_indexer,col_indexer] = value instead\n",
      "\n",
      "See the caveats in the documentation: https://pandas.pydata.org/pandas-docs/stable/user_guide/indexing.html#returning-a-view-versus-a-copy\n",
      "  newdf['bookid'] = newdf.apply(get_meta_book, axis=1)\n"
     ]
    }
   ],
   "source": [
    "newdf['bookid'] = newdf.apply(get_meta_book, axis=1)"
   ]
  },
  {
   "cell_type": "code",
   "execution_count": 22,
   "id": "092ab084-76c4-4459-a33b-62103850358d",
   "metadata": {},
   "outputs": [
    {
     "name": "stderr",
     "output_type": "stream",
     "text": [
      "/var/folders/ps/lnm9jcx95676mggwmlpvn86cv6fpj6/T/ipykernel_14725/2405547013.py:1: SettingWithCopyWarning: \n",
      "A value is trying to be set on a copy of a slice from a DataFrame.\n",
      "Try using .loc[row_indexer,col_indexer] = value instead\n",
      "\n",
      "See the caveats in the documentation: https://pandas.pydata.org/pandas-docs/stable/user_guide/indexing.html#returning-a-view-versus-a-copy\n",
      "  newdf['line_num'] = newdf['id'].apply(lambda x: int(x.split(\"_\")[1]))\n"
     ]
    }
   ],
   "source": [
    "newdf['line_num'] = newdf['id'].apply(lambda x: int(x.split(\"_\")[1]))"
   ]
  },
  {
   "cell_type": "code",
   "execution_count": 23,
   "id": "2e9ebf10-96e6-4986-a94f-f186a4380885",
   "metadata": {},
   "outputs": [
    {
     "data": {
      "text/html": [
       "<div>\n",
       "<style scoped>\n",
       "    .dataframe tbody tr th:only-of-type {\n",
       "        vertical-align: middle;\n",
       "    }\n",
       "\n",
       "    .dataframe tbody tr th {\n",
       "        vertical-align: top;\n",
       "    }\n",
       "\n",
       "    .dataframe thead th {\n",
       "        text-align: right;\n",
       "    }\n",
       "</style>\n",
       "<table border=\"1\" class=\"dataframe\">\n",
       "  <thead>\n",
       "    <tr style=\"text-align: right;\">\n",
       "      <th></th>\n",
       "      <th>id</th>\n",
       "      <th>vector</th>\n",
       "      <th>metadata</th>\n",
       "      <th>content</th>\n",
       "      <th>source</th>\n",
       "      <th>bookid</th>\n",
       "      <th>line_num</th>\n",
       "    </tr>\n",
       "  </thead>\n",
       "  <tbody>\n",
       "    <tr>\n",
       "      <th>0</th>\n",
       "      <td>10007_1</td>\n",
       "      <td>[-0.063463405, 0.32761705, 0.055954654, 0.0606...</td>\n",
       "      <td>{\"bookid\": \"10007\", \"source_file\": \"10007_sent...</td>\n",
       "      <td>Upon a paper attached to the Narrative which f...</td>\n",
       "      <td>10007_sents_filt.txt</td>\n",
       "      <td>10007</td>\n",
       "      <td>1</td>\n",
       "    </tr>\n",
       "    <tr>\n",
       "      <th>1</th>\n",
       "      <td>10007_2</td>\n",
       "      <td>[-0.0025392883, 0.25165504, 0.120898426, 0.125...</td>\n",
       "      <td>{\"bookid\": \"10007\", \"source_file\": \"10007_sent...</td>\n",
       "      <td>This mysterious subject he treats, in that Ess...</td>\n",
       "      <td>10007_sents_filt.txt</td>\n",
       "      <td>10007</td>\n",
       "      <td>2</td>\n",
       "    </tr>\n",
       "    <tr>\n",
       "      <th>2</th>\n",
       "      <td>10007_3</td>\n",
       "      <td>[-0.57040954, -0.22010325, -0.1445377, 0.08371...</td>\n",
       "      <td>{\"bookid\": \"10007\", \"source_file\": \"10007_sent...</td>\n",
       "      <td>It will form but one volume of the series of t...</td>\n",
       "      <td>10007_sents_filt.txt</td>\n",
       "      <td>10007</td>\n",
       "      <td>3</td>\n",
       "    </tr>\n",
       "    <tr>\n",
       "      <th>3</th>\n",
       "      <td>10007_4</td>\n",
       "      <td>[-0.31380844, 0.22234955, -0.058996968, -0.013...</td>\n",
       "      <td>{\"bookid\": \"10007\", \"source_file\": \"10007_sent...</td>\n",
       "      <td>I was anxious on discovering this paper, to re...</td>\n",
       "      <td>10007_sents_filt.txt</td>\n",
       "      <td>10007</td>\n",
       "      <td>4</td>\n",
       "    </tr>\n",
       "    <tr>\n",
       "      <th>4</th>\n",
       "      <td>10007_5</td>\n",
       "      <td>[0.029975032, 0.14211011, 0.24296851, 0.185763...</td>\n",
       "      <td>{\"bookid\": \"10007\", \"source_file\": \"10007_sent...</td>\n",
       "      <td>Much to my regret, however, I found that she h...</td>\n",
       "      <td>10007_sents_filt.txt</td>\n",
       "      <td>10007</td>\n",
       "      <td>5</td>\n",
       "    </tr>\n",
       "  </tbody>\n",
       "</table>\n",
       "</div>"
      ],
      "text/plain": [
       "        id                                             vector  \\\n",
       "0  10007_1  [-0.063463405, 0.32761705, 0.055954654, 0.0606...   \n",
       "1  10007_2  [-0.0025392883, 0.25165504, 0.120898426, 0.125...   \n",
       "2  10007_3  [-0.57040954, -0.22010325, -0.1445377, 0.08371...   \n",
       "3  10007_4  [-0.31380844, 0.22234955, -0.058996968, -0.013...   \n",
       "4  10007_5  [0.029975032, 0.14211011, 0.24296851, 0.185763...   \n",
       "\n",
       "                                            metadata  \\\n",
       "0  {\"bookid\": \"10007\", \"source_file\": \"10007_sent...   \n",
       "1  {\"bookid\": \"10007\", \"source_file\": \"10007_sent...   \n",
       "2  {\"bookid\": \"10007\", \"source_file\": \"10007_sent...   \n",
       "3  {\"bookid\": \"10007\", \"source_file\": \"10007_sent...   \n",
       "4  {\"bookid\": \"10007\", \"source_file\": \"10007_sent...   \n",
       "\n",
       "                                             content                source  \\\n",
       "0  Upon a paper attached to the Narrative which f...  10007_sents_filt.txt   \n",
       "1  This mysterious subject he treats, in that Ess...  10007_sents_filt.txt   \n",
       "2  It will form but one volume of the series of t...  10007_sents_filt.txt   \n",
       "3  I was anxious on discovering this paper, to re...  10007_sents_filt.txt   \n",
       "4  Much to my regret, however, I found that she h...  10007_sents_filt.txt   \n",
       "\n",
       "  bookid  line_num  \n",
       "0  10007         1  \n",
       "1  10007         2  \n",
       "2  10007         3  \n",
       "3  10007         4  \n",
       "4  10007         5  "
      ]
     },
     "execution_count": 23,
     "metadata": {},
     "output_type": "execute_result"
    }
   ],
   "source": [
    "newdf.head()"
   ]
  },
  {
   "cell_type": "code",
   "execution_count": 24,
   "id": "61671719-bbf7-467f-b4c7-193d97a6835b",
   "metadata": {},
   "outputs": [],
   "source": [
    "newdf = newdf.drop('metadata', axis=1)"
   ]
  },
  {
   "cell_type": "code",
   "execution_count": null,
   "id": "980af11c-928f-4f81-9e38-ea22231f3d8b",
   "metadata": {},
   "outputs": [],
   "source": []
  },
  {
   "cell_type": "markdown",
   "id": "f4676ed7-eca4-46e5-86cf-35c69995431e",
   "metadata": {},
   "source": [
    "## Read in Latest Data File with Emdbeds"
   ]
  },
  {
   "cell_type": "code",
   "execution_count": 25,
   "id": "0d3cfaf3-20a0-4a17-9790-c22a9b6caa3f",
   "metadata": {},
   "outputs": [],
   "source": [
    "newdf = newdf[~newdf['source'].str.contains(\"30254\")] # porn"
   ]
  },
  {
   "cell_type": "code",
   "execution_count": 26,
   "id": "377a6c3e-e887-436a-a9ab-ff4d75234ffc",
   "metadata": {},
   "outputs": [],
   "source": [
    "newdf = newdf[~newdf['source'].str.contains(\"37106\")] # dupe"
   ]
  },
  {
   "cell_type": "code",
   "execution_count": 27,
   "id": "7c34fa1e-a28a-4b2b-a2d7-d564b8dd40af",
   "metadata": {},
   "outputs": [],
   "source": [
    "newdf.to_json(\"embedded_data.json\", orient=\"records\", index=None)"
   ]
  },
  {
   "cell_type": "code",
   "execution_count": 28,
   "id": "5027e945-6348-405b-b7aa-84dead9020cb",
   "metadata": {},
   "outputs": [],
   "source": [
    "import pandas as pd\n",
    "newdf = pd.read_json(\"embedded_data.json\", orient=\"records\")"
   ]
  },
  {
   "cell_type": "code",
   "execution_count": 29,
   "id": "89920f71-aea0-41d1-985a-69efa551c882",
   "metadata": {},
   "outputs": [
    {
     "data": {
      "text/plain": [
       "Index(['id', 'vector', 'content', 'source', 'bookid', 'line_num'], dtype='object')"
      ]
     },
     "execution_count": 29,
     "metadata": {},
     "output_type": "execute_result"
    }
   ],
   "source": [
    "newdf.columns"
   ]
  },
  {
   "cell_type": "code",
   "execution_count": 31,
   "id": "e89dd675-f2e3-40b2-8ba7-380f2121e75d",
   "metadata": {},
   "outputs": [],
   "source": [
    "def make_id(row):\n",
    "    return str(row['bookid']) + \"_\" + str(row['line_num'])"
   ]
  },
  {
   "cell_type": "code",
   "execution_count": 32,
   "id": "55a165a0-aab9-4068-a47c-cb48aee77621",
   "metadata": {},
   "outputs": [],
   "source": [
    "newdf['id'] = newdf.apply(make_id, axis=1)"
   ]
  },
  {
   "cell_type": "code",
   "execution_count": 33,
   "id": "42e9275c-1d83-4174-ab2f-431def13b920",
   "metadata": {},
   "outputs": [
    {
     "data": {
      "text/plain": [
       "170228"
      ]
     },
     "execution_count": 33,
     "metadata": {},
     "output_type": "execute_result"
    }
   ],
   "source": [
    "len(newdf)"
   ]
  },
  {
   "cell_type": "code",
   "execution_count": 34,
   "id": "ca0de3d7-0ded-436b-93f2-34d423517b19",
   "metadata": {},
   "outputs": [
    {
     "data": {
      "text/html": [
       "<div>\n",
       "<style scoped>\n",
       "    .dataframe tbody tr th:only-of-type {\n",
       "        vertical-align: middle;\n",
       "    }\n",
       "\n",
       "    .dataframe tbody tr th {\n",
       "        vertical-align: top;\n",
       "    }\n",
       "\n",
       "    .dataframe thead th {\n",
       "        text-align: right;\n",
       "    }\n",
       "</style>\n",
       "<table border=\"1\" class=\"dataframe\">\n",
       "  <thead>\n",
       "    <tr style=\"text-align: right;\">\n",
       "      <th></th>\n",
       "      <th>id</th>\n",
       "      <th>vector</th>\n",
       "      <th>content</th>\n",
       "      <th>source</th>\n",
       "      <th>bookid</th>\n",
       "      <th>line_num</th>\n",
       "    </tr>\n",
       "  </thead>\n",
       "  <tbody>\n",
       "    <tr>\n",
       "      <th>0</th>\n",
       "      <td>10007_1</td>\n",
       "      <td>[-0.0634634048, 0.3276170492, 0.05595465380000...</td>\n",
       "      <td>Upon a paper attached to the Narrative which f...</td>\n",
       "      <td>10007_sents_filt.txt</td>\n",
       "      <td>10007</td>\n",
       "      <td>1</td>\n",
       "    </tr>\n",
       "    <tr>\n",
       "      <th>1</th>\n",
       "      <td>10007_2</td>\n",
       "      <td>[-0.0025392883, 0.2516550422, 0.1208984256, 0....</td>\n",
       "      <td>This mysterious subject he treats, in that Ess...</td>\n",
       "      <td>10007_sents_filt.txt</td>\n",
       "      <td>10007</td>\n",
       "      <td>2</td>\n",
       "    </tr>\n",
       "    <tr>\n",
       "      <th>2</th>\n",
       "      <td>10007_3</td>\n",
       "      <td>[-0.5704095364, -0.220103249, -0.1445377022, 0...</td>\n",
       "      <td>It will form but one volume of the series of t...</td>\n",
       "      <td>10007_sents_filt.txt</td>\n",
       "      <td>10007</td>\n",
       "      <td>3</td>\n",
       "    </tr>\n",
       "    <tr>\n",
       "      <th>3</th>\n",
       "      <td>10007_4</td>\n",
       "      <td>[-0.3138084412, 0.2223495543, -0.0589969680000...</td>\n",
       "      <td>I was anxious on discovering this paper, to re...</td>\n",
       "      <td>10007_sents_filt.txt</td>\n",
       "      <td>10007</td>\n",
       "      <td>4</td>\n",
       "    </tr>\n",
       "    <tr>\n",
       "      <th>4</th>\n",
       "      <td>10007_5</td>\n",
       "      <td>[0.0299750324, 0.1421101093, 0.242968514600000...</td>\n",
       "      <td>Much to my regret, however, I found that she h...</td>\n",
       "      <td>10007_sents_filt.txt</td>\n",
       "      <td>10007</td>\n",
       "      <td>5</td>\n",
       "    </tr>\n",
       "  </tbody>\n",
       "</table>\n",
       "</div>"
      ],
      "text/plain": [
       "        id                                             vector  \\\n",
       "0  10007_1  [-0.0634634048, 0.3276170492, 0.05595465380000...   \n",
       "1  10007_2  [-0.0025392883, 0.2516550422, 0.1208984256, 0....   \n",
       "2  10007_3  [-0.5704095364, -0.220103249, -0.1445377022, 0...   \n",
       "3  10007_4  [-0.3138084412, 0.2223495543, -0.0589969680000...   \n",
       "4  10007_5  [0.0299750324, 0.1421101093, 0.242968514600000...   \n",
       "\n",
       "                                             content                source  \\\n",
       "0  Upon a paper attached to the Narrative which f...  10007_sents_filt.txt   \n",
       "1  This mysterious subject he treats, in that Ess...  10007_sents_filt.txt   \n",
       "2  It will form but one volume of the series of t...  10007_sents_filt.txt   \n",
       "3  I was anxious on discovering this paper, to re...  10007_sents_filt.txt   \n",
       "4  Much to my regret, however, I found that she h...  10007_sents_filt.txt   \n",
       "\n",
       "   bookid  line_num  \n",
       "0   10007         1  \n",
       "1   10007         2  \n",
       "2   10007         3  \n",
       "3   10007         4  \n",
       "4   10007         5  "
      ]
     },
     "execution_count": 34,
     "metadata": {},
     "output_type": "execute_result"
    }
   ],
   "source": [
    "newdf.head()"
   ]
  },
  {
   "cell_type": "code",
   "execution_count": 35,
   "id": "d6c290df-0778-4590-80ef-892ce7d3136c",
   "metadata": {},
   "outputs": [],
   "source": [
    "newrows = newdf.to_dict(orient=\"records\")"
   ]
  },
  {
   "cell_type": "code",
   "execution_count": 36,
   "id": "d4c87627-dd58-404d-8a19-ef5681d2f679",
   "metadata": {},
   "outputs": [
    {
     "data": {
      "text/plain": [
       "dict_keys(['id', 'vector', 'content', 'source', 'bookid', 'line_num'])"
      ]
     },
     "execution_count": 36,
     "metadata": {},
     "output_type": "execute_result"
    }
   ],
   "source": [
    "newrows[0].keys()"
   ]
  },
  {
   "cell_type": "code",
   "execution_count": 37,
   "id": "3703413b-b0b8-4e29-8c46-53f395ecbd7a",
   "metadata": {},
   "outputs": [],
   "source": [
    "from itertools import islice\n",
    "def batched(iterable, n):\n",
    "    iterator = iter(iterable)\n",
    "    while batch := list(islice(iterator, n)):\n",
    "        yield batch\n",
    "\n",
    "def removekeys(row, keys=['id', 'vector']):\n",
    "    for key in keys:\n",
    "        del row[key]\n",
    "    return row\n",
    "\n",
    "def make_chroma_recs(rows):\n",
    "    ids = [row['id'] for row in rows]\n",
    "    embeddings = [row['vector'] for row in rows]\n",
    "    documents = [row['content'] for row in rows]\n",
    "    copy = rows.copy()\n",
    "    metadatas = [removekeys(x) for x in copy]\n",
    "    return ids, embeddings, documents, metadatas\n",
    "    \n",
    "    "
   ]
  },
  {
   "cell_type": "code",
   "execution_count": null,
   "id": "4f1a3a13-5bd4-48ec-ab8d-3eb1c70aef12",
   "metadata": {},
   "outputs": [],
   "source": [
    "#upset_batches(newrows)"
   ]
  },
  {
   "cell_type": "markdown",
   "id": "6c92438e-da32-4059-b2e0-61071bab875a",
   "metadata": {},
   "source": [
    "## ChromaDB"
   ]
  },
  {
   "cell_type": "code",
   "execution_count": null,
   "id": "676f159d-1bb7-47b2-ac1f-057c02a167ac",
   "metadata": {},
   "outputs": [],
   "source": [
    "!pip install chromadb"
   ]
  },
  {
   "cell_type": "code",
   "execution_count": 38,
   "id": "93578990-b6e0-42f0-8b2e-15230823c24d",
   "metadata": {},
   "outputs": [],
   "source": [
    "import chromadb"
   ]
  },
  {
   "cell_type": "code",
   "execution_count": 6,
   "id": "de80d220-7ef1-4855-a211-059a3b76041e",
   "metadata": {},
   "outputs": [],
   "source": [
    "client = chromadb.PersistentClient(path=\"chroma_db/\")"
   ]
  },
  {
   "cell_type": "code",
   "execution_count": 40,
   "id": "8bde8593-6db5-4dbb-b3cc-f704e27ec75a",
   "metadata": {},
   "outputs": [],
   "source": [
    "collection = client.create_collection(name=\"top100\", metadata={\"hnsw:space\": \"cosine\"})"
   ]
  },
  {
   "cell_type": "code",
   "execution_count": 20,
   "id": "6c05ea36-c67f-431d-94eb-cac25385eee6",
   "metadata": {},
   "outputs": [],
   "source": [
    "#client.delete_collection(\"top100\")"
   ]
  },
  {
   "cell_type": "markdown",
   "id": "59f15091-4d97-49c7-a5bc-fd1785c228ab",
   "metadata": {},
   "source": [
    "```\n",
    "collection.add(\n",
    "    embeddings=[[1.1, 2.3, 3.2], [4.5, 6.9, 4.4], [1.1, 2.3, 3.2], ...],\n",
    "    metadatas=[{\"chapter\": \"3\", \"verse\": \"16\"}, {\"chapter\": \"3\", \"verse\": \"5\"}, {\"chapter\": \"29\", \"verse\": \"11\"}, ...],\n",
    "    ids=[\"id1\", \"id2\", \"id3\", ...]\n",
    ")\n",
    "```"
   ]
  },
  {
   "cell_type": "code",
   "execution_count": 41,
   "id": "48e92bb2-9110-4e0b-8e28-c835f99a97a9",
   "metadata": {},
   "outputs": [],
   "source": [
    "def chroma_batches(rows):\n",
    "    for batch in batched(rows, 100):\n",
    "        ids, embeddings, documents, metadatas = make_chroma_recs(batch)\n",
    "        collection.add(\n",
    "            embeddings=embeddings,\n",
    "            metadatas=metadatas,\n",
    "            ids=ids,\n",
    "            documents=documents)\n",
    "    print('done')\n",
    "    return "
   ]
  },
  {
   "cell_type": "code",
   "execution_count": 42,
   "id": "6806f95f-c42d-47ce-a314-a5d58dab4e42",
   "metadata": {},
   "outputs": [
    {
     "name": "stdout",
     "output_type": "stream",
     "text": [
      "done\n"
     ]
    }
   ],
   "source": [
    "chroma_batches(newrows)"
   ]
  },
  {
   "cell_type": "code",
   "execution_count": 8,
   "id": "ad8d995c-a77f-4840-b8ba-2cb3c10c14a8",
   "metadata": {},
   "outputs": [],
   "source": [
    "def search_chroma(string, keyword=None, n=10):\n",
    "    vector = embedding_model.embed(string)\n",
    "    if keyword:\n",
    "        res = collection.query(\n",
    "            query_embeddings=[vector],\n",
    "            n_results=n,\n",
    "            #where={\"metadata_field\": \"is_equal_to_this\"},\n",
    "            where_document={\"$contains\":keyword}\n",
    "        )\n",
    "    else:\n",
    "        res = collection.query(\n",
    "            query_embeddings=[vector],\n",
    "            n_results=n,\n",
    "            #where={\"metadata_field\": \"is_equal_to_this\"},\n",
    "            #where_document={\"$contains\":keyword}\n",
    "        )\n",
    "    return res"
   ]
  },
  {
   "cell_type": "code",
   "execution_count": 7,
   "id": "ce68cdf7-b682-4167-a16b-344dd40376d2",
   "metadata": {},
   "outputs": [],
   "source": [
    "collection = client.get_collection(\"top100\")"
   ]
  },
  {
   "cell_type": "code",
   "execution_count": 9,
   "id": "01da8884-de14-4b04-b7d3-17970afa8baf",
   "metadata": {},
   "outputs": [
    {
     "name": "stderr",
     "output_type": "stream",
     "text": [
      "llama_new_context_with_model: n_ctx_per_seq (512) < n_ctx_train (4096) -- the full capacity of the model will not be utilized\n"
     ]
    },
    {
     "ename": "ValueError",
     "evalue": "Failed to create llama_context",
     "output_type": "error",
     "traceback": [
      "\u001b[0;31m---------------------------------------------------------------------------\u001b[0m",
      "\u001b[0;31mValueError\u001b[0m                                Traceback (most recent call last)",
      "Cell \u001b[0;32mIn[9], line 1\u001b[0m\n\u001b[0;32m----> 1\u001b[0m \u001b[43msearch_chroma\u001b[49m\u001b[43m(\u001b[49m\u001b[38;5;124;43m\"\u001b[39;49m\u001b[38;5;124;43mlooked out the window\u001b[39;49m\u001b[38;5;124;43m\"\u001b[39;49m\u001b[43m)\u001b[49m\n",
      "Cell \u001b[0;32mIn[8], line 2\u001b[0m, in \u001b[0;36msearch_chroma\u001b[0;34m(string, keyword, n)\u001b[0m\n\u001b[1;32m      1\u001b[0m \u001b[38;5;28;01mdef\u001b[39;00m \u001b[38;5;21msearch_chroma\u001b[39m(string, keyword\u001b[38;5;241m=\u001b[39m\u001b[38;5;28;01mNone\u001b[39;00m, n\u001b[38;5;241m=\u001b[39m\u001b[38;5;241m10\u001b[39m):\n\u001b[0;32m----> 2\u001b[0m     vector \u001b[38;5;241m=\u001b[39m \u001b[43membedding_model\u001b[49m\u001b[38;5;241;43m.\u001b[39;49m\u001b[43membed\u001b[49m\u001b[43m(\u001b[49m\u001b[43mstring\u001b[49m\u001b[43m)\u001b[49m\n\u001b[1;32m      3\u001b[0m     \u001b[38;5;28;01mif\u001b[39;00m keyword:\n\u001b[1;32m      4\u001b[0m         res \u001b[38;5;241m=\u001b[39m collection\u001b[38;5;241m.\u001b[39mquery(\n\u001b[1;32m      5\u001b[0m             query_embeddings\u001b[38;5;241m=\u001b[39m[vector],\n\u001b[1;32m      6\u001b[0m             n_results\u001b[38;5;241m=\u001b[39mn,\n\u001b[1;32m      7\u001b[0m             \u001b[38;5;66;03m#where={\"metadata_field\": \"is_equal_to_this\"},\u001b[39;00m\n\u001b[1;32m      8\u001b[0m             where_document\u001b[38;5;241m=\u001b[39m{\u001b[38;5;124m\"\u001b[39m\u001b[38;5;124m$contains\u001b[39m\u001b[38;5;124m\"\u001b[39m:keyword}\n\u001b[1;32m      9\u001b[0m         )\n",
      "File \u001b[0;32m~/miniconda3/envs/latent/lib/python3.11/site-packages/llm/models.py:721\u001b[0m, in \u001b[0;36mEmbeddingModel.embed\u001b[0;34m(self, item)\u001b[0m\n\u001b[1;32m    719\u001b[0m \u001b[38;5;124m\"\u001b[39m\u001b[38;5;124mEmbed a single text string or binary blob, return a list of floats\u001b[39m\u001b[38;5;124m\"\u001b[39m\n\u001b[1;32m    720\u001b[0m \u001b[38;5;28mself\u001b[39m\u001b[38;5;241m.\u001b[39m_check(item)\n\u001b[0;32m--> 721\u001b[0m \u001b[38;5;28;01mreturn\u001b[39;00m \u001b[38;5;28mnext\u001b[39m(\u001b[38;5;28miter\u001b[39m(\u001b[38;5;28;43mself\u001b[39;49m\u001b[38;5;241;43m.\u001b[39;49m\u001b[43membed_batch\u001b[49m\u001b[43m(\u001b[49m\u001b[43m[\u001b[49m\u001b[43mitem\u001b[49m\u001b[43m]\u001b[49m\u001b[43m)\u001b[49m))\n",
      "File \u001b[0;32m~/miniconda3/envs/latent/lib/python3.11/site-packages/llm_gguf.py:318\u001b[0m, in \u001b[0;36mGgufEmbeddingModel.embed_batch\u001b[0;34m(self, texts)\u001b[0m\n\u001b[1;32m    316\u001b[0m \u001b[38;5;28;01mdef\u001b[39;00m \u001b[38;5;21membed_batch\u001b[39m(\u001b[38;5;28mself\u001b[39m, texts):\n\u001b[1;32m    317\u001b[0m     \u001b[38;5;28;01mif\u001b[39;00m \u001b[38;5;28mself\u001b[39m\u001b[38;5;241m.\u001b[39m_model \u001b[38;5;129;01mis\u001b[39;00m \u001b[38;5;28;01mNone\u001b[39;00m:\n\u001b[0;32m--> 318\u001b[0m         \u001b[38;5;28mself\u001b[39m\u001b[38;5;241m.\u001b[39m_model \u001b[38;5;241m=\u001b[39m \u001b[43mLlama\u001b[49m\u001b[43m(\u001b[49m\n\u001b[1;32m    319\u001b[0m \u001b[43m            \u001b[49m\u001b[43mmodel_path\u001b[49m\u001b[38;5;241;43m=\u001b[39;49m\u001b[38;5;28;43mself\u001b[39;49m\u001b[38;5;241;43m.\u001b[39;49m\u001b[43mmodel_path\u001b[49m\u001b[43m,\u001b[49m\u001b[43m \u001b[49m\u001b[43membedding\u001b[49m\u001b[38;5;241;43m=\u001b[39;49m\u001b[38;5;28;43;01mTrue\u001b[39;49;00m\u001b[43m,\u001b[49m\u001b[43m \u001b[49m\u001b[43mverbose\u001b[49m\u001b[38;5;241;43m=\u001b[39;49m\u001b[38;5;28;43;01mFalse\u001b[39;49;00m\n\u001b[1;32m    320\u001b[0m \u001b[43m        \u001b[49m\u001b[43m)\u001b[49m\n\u001b[1;32m    321\u001b[0m     results \u001b[38;5;241m=\u001b[39m \u001b[38;5;28mself\u001b[39m\u001b[38;5;241m.\u001b[39m_model\u001b[38;5;241m.\u001b[39mcreate_embedding(\u001b[38;5;28mlist\u001b[39m(texts))\n\u001b[1;32m    322\u001b[0m     \u001b[38;5;28;01mreturn\u001b[39;00m [result[\u001b[38;5;124m\"\u001b[39m\u001b[38;5;124membedding\u001b[39m\u001b[38;5;124m\"\u001b[39m] \u001b[38;5;28;01mfor\u001b[39;00m result \u001b[38;5;129;01min\u001b[39;00m results[\u001b[38;5;124m\"\u001b[39m\u001b[38;5;124mdata\u001b[39m\u001b[38;5;124m\"\u001b[39m]]\n",
      "File \u001b[0;32m~/miniconda3/envs/latent/lib/python3.11/site-packages/llama_cpp/llama.py:390\u001b[0m, in \u001b[0;36mLlama.__init__\u001b[0;34m(self, model_path, n_gpu_layers, split_mode, main_gpu, tensor_split, rpc_servers, vocab_only, use_mmap, use_mlock, kv_overrides, seed, n_ctx, n_batch, n_ubatch, n_threads, n_threads_batch, rope_scaling_type, pooling_type, rope_freq_base, rope_freq_scale, yarn_ext_factor, yarn_attn_factor, yarn_beta_fast, yarn_beta_slow, yarn_orig_ctx, logits_all, embedding, offload_kqv, flash_attn, last_n_tokens_size, lora_base, lora_scale, lora_path, numa, chat_format, chat_handler, draft_model, tokenizer, type_k, type_v, spm_infill, verbose, **kwargs)\u001b[0m\n\u001b[1;32m    385\u001b[0m     \u001b[38;5;28mself\u001b[39m\u001b[38;5;241m.\u001b[39mcontext_params\u001b[38;5;241m.\u001b[39mn_batch \u001b[38;5;241m=\u001b[39m \u001b[38;5;28mself\u001b[39m\u001b[38;5;241m.\u001b[39mn_batch\n\u001b[1;32m    386\u001b[0m     \u001b[38;5;28mself\u001b[39m\u001b[38;5;241m.\u001b[39mcontext_params\u001b[38;5;241m.\u001b[39mn_ubatch \u001b[38;5;241m=\u001b[39m \u001b[38;5;28mmin\u001b[39m(\u001b[38;5;28mself\u001b[39m\u001b[38;5;241m.\u001b[39mn_batch, n_ubatch)\n\u001b[1;32m    388\u001b[0m \u001b[38;5;28mself\u001b[39m\u001b[38;5;241m.\u001b[39m_ctx \u001b[38;5;241m=\u001b[39m \u001b[38;5;28mself\u001b[39m\u001b[38;5;241m.\u001b[39m_stack\u001b[38;5;241m.\u001b[39menter_context(\n\u001b[1;32m    389\u001b[0m     contextlib\u001b[38;5;241m.\u001b[39mclosing(\n\u001b[0;32m--> 390\u001b[0m         \u001b[43minternals\u001b[49m\u001b[38;5;241;43m.\u001b[39;49m\u001b[43mLlamaContext\u001b[49m\u001b[43m(\u001b[49m\n\u001b[1;32m    391\u001b[0m \u001b[43m            \u001b[49m\u001b[43mmodel\u001b[49m\u001b[38;5;241;43m=\u001b[39;49m\u001b[38;5;28;43mself\u001b[39;49m\u001b[38;5;241;43m.\u001b[39;49m\u001b[43m_model\u001b[49m\u001b[43m,\u001b[49m\n\u001b[1;32m    392\u001b[0m \u001b[43m            \u001b[49m\u001b[43mparams\u001b[49m\u001b[38;5;241;43m=\u001b[39;49m\u001b[38;5;28;43mself\u001b[39;49m\u001b[38;5;241;43m.\u001b[39;49m\u001b[43mcontext_params\u001b[49m\u001b[43m,\u001b[49m\n\u001b[1;32m    393\u001b[0m \u001b[43m            \u001b[49m\u001b[43mverbose\u001b[49m\u001b[38;5;241;43m=\u001b[39;49m\u001b[38;5;28;43mself\u001b[39;49m\u001b[38;5;241;43m.\u001b[39;49m\u001b[43mverbose\u001b[49m\u001b[43m,\u001b[49m\n\u001b[1;32m    394\u001b[0m \u001b[43m        \u001b[49m\u001b[43m)\u001b[49m\n\u001b[1;32m    395\u001b[0m     )\n\u001b[1;32m    396\u001b[0m )\n\u001b[1;32m    398\u001b[0m \u001b[38;5;28mself\u001b[39m\u001b[38;5;241m.\u001b[39m_batch \u001b[38;5;241m=\u001b[39m \u001b[38;5;28mself\u001b[39m\u001b[38;5;241m.\u001b[39m_stack\u001b[38;5;241m.\u001b[39menter_context(\n\u001b[1;32m    399\u001b[0m     contextlib\u001b[38;5;241m.\u001b[39mclosing(\n\u001b[1;32m    400\u001b[0m         internals\u001b[38;5;241m.\u001b[39mLlamaBatch(\n\u001b[0;32m   (...)\u001b[0m\n\u001b[1;32m    406\u001b[0m     )\n\u001b[1;32m    407\u001b[0m )\n\u001b[1;32m    409\u001b[0m \u001b[38;5;28mself\u001b[39m\u001b[38;5;241m.\u001b[39m_lora_adapter: Optional[llama_cpp\u001b[38;5;241m.\u001b[39mllama_lora_adapter_p] \u001b[38;5;241m=\u001b[39m \u001b[38;5;28;01mNone\u001b[39;00m\n",
      "File \u001b[0;32m~/miniconda3/envs/latent/lib/python3.11/site-packages/llama_cpp/_internals.py:249\u001b[0m, in \u001b[0;36mLlamaContext.__init__\u001b[0;34m(self, model, params, verbose)\u001b[0m\n\u001b[1;32m    246\u001b[0m ctx \u001b[38;5;241m=\u001b[39m llama_cpp\u001b[38;5;241m.\u001b[39mllama_new_context_with_model(\u001b[38;5;28mself\u001b[39m\u001b[38;5;241m.\u001b[39mmodel\u001b[38;5;241m.\u001b[39mmodel, \u001b[38;5;28mself\u001b[39m\u001b[38;5;241m.\u001b[39mparams)\n\u001b[1;32m    248\u001b[0m \u001b[38;5;28;01mif\u001b[39;00m ctx \u001b[38;5;129;01mis\u001b[39;00m \u001b[38;5;28;01mNone\u001b[39;00m:\n\u001b[0;32m--> 249\u001b[0m     \u001b[38;5;28;01mraise\u001b[39;00m \u001b[38;5;167;01mValueError\u001b[39;00m(\u001b[38;5;124m\"\u001b[39m\u001b[38;5;124mFailed to create llama_context\u001b[39m\u001b[38;5;124m\"\u001b[39m)\n\u001b[1;32m    251\u001b[0m \u001b[38;5;28mself\u001b[39m\u001b[38;5;241m.\u001b[39mctx \u001b[38;5;241m=\u001b[39m ctx\n\u001b[1;32m    253\u001b[0m \u001b[38;5;28;01mdef\u001b[39;00m \u001b[38;5;21mfree_ctx\u001b[39m():\n",
      "\u001b[0;31mValueError\u001b[0m: Failed to create llama_context"
     ]
    }
   ],
   "source": [
    "search_chroma(\"looked out the window\")"
   ]
  },
  {
   "cell_type": "code",
   "execution_count": null,
   "id": "ec5b62ee-b01e-4d33-90cc-a47fc879129f",
   "metadata": {},
   "outputs": [],
   "source": []
  }
 ],
 "metadata": {
  "kernelspec": {
   "display_name": "Python 3 (ipykernel)",
   "language": "python",
   "name": "python3"
  },
  "language_info": {
   "codemirror_mode": {
    "name": "ipython",
    "version": 3
   },
   "file_extension": ".py",
   "mimetype": "text/x-python",
   "name": "python",
   "nbconvert_exporter": "python",
   "pygments_lexer": "ipython3",
   "version": "3.11.10"
  }
 },
 "nbformat": 4,
 "nbformat_minor": 5
}
